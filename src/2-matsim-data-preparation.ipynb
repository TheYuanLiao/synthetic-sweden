{
 "cells": [
  {
   "cell_type": "markdown",
   "metadata": {
    "collapsed": true,
    "pycharm": {
     "name": "#%% md\n"
    }
   },
   "source": [
    "# MATSim input data preparation\n",
    "Prepare road network and synthetic population."
   ]
  },
  {
   "cell_type": "code",
   "execution_count": 1,
   "outputs": [
    {
     "name": "stdout",
     "output_type": "stream",
     "text": [
      "D:\\synthetic-sweden\n"
     ]
    }
   ],
   "source": [
    "%load_ext autoreload\n",
    "%autoreload 2\n",
    "%cd D:\\synthetic-sweden\n",
    "%matplotlib inline"
   ],
   "metadata": {
    "collapsed": false,
    "pycharm": {
     "name": "#%%\n"
    }
   }
  },
  {
   "cell_type": "code",
   "execution_count": 2,
   "outputs": [],
   "source": [
    "# Load libs\n",
    "import math\n",
    "import pandas as pd\n",
    "import numpy as np\n",
    "import geopandas as gpd\n",
    "from tqdm import tqdm\n",
    "import dataworkers as dw\n",
    "import matsim\n",
    "import gzip\n",
    "import matplotlib.pyplot as plt"
   ],
   "metadata": {
    "collapsed": false,
    "pycharm": {
     "name": "#%%\n"
    }
   }
  },
  {
   "cell_type": "markdown",
   "source": [
    "## 1. Network preparation"
   ],
   "metadata": {
    "collapsed": false,
    "pycharm": {
     "name": "#%% md\n"
    }
   }
  },
  {
   "cell_type": "markdown",
   "source": [
    "### Load boundary\n",
    "Create boundary using QGIS focusing on VGR."
   ],
   "metadata": {
    "collapsed": false,
    "pycharm": {
     "name": "#%% md\n"
    }
   }
  },
  {
   "cell_type": "markdown",
   "source": [
    "### Prepare command line\n",
    "#### .osm.pbf -> .xml.gz"
   ],
   "metadata": {
    "collapsed": false,
    "pycharm": {
     "name": "#%% md\n"
    }
   }
  },
  {
   "cell_type": "code",
   "execution_count": 3,
   "outputs": [
    {
     "name": "stdout",
     "output_type": "stream",
     "text": [
      "D:\\matsim-code-examples-13.x\\src\\main\\java\\org\\matsim\\codeexamples\\network\n"
     ]
    }
   ],
   "source": [
    "file_java = 'D:\\\\matsim-code-examples-13.x\\\\src\\\\main\\\\java\\\\org\\\\matsim\\\\codeexamples\\\\network'\n",
    "print(file_java)"
   ],
   "metadata": {
    "collapsed": false,
    "pycharm": {
     "name": "#%%\n"
    }
   }
  },
  {
   "cell_type": "code",
   "execution_count": 4,
   "outputs": [],
   "source": [
    "Epsg = \"EPSG:3006\"\n",
    "input = \"D:\\\\synthetic-sweden\\\\dbs\\\\network\\\\sweden-latest.osm.pbf\"\n",
    "filter = \"D:\\\\synthetic-sweden\\\\dbs\\\\network\\\\vgr_filter.shp\" # Created in QGIS\n",
    "output = \"D:\\\\synthetic-sweden\\\\dbs\\\\network\\\\vgr.xml.gz\""
   ],
   "metadata": {
    "collapsed": false,
    "pycharm": {
     "name": "#%%\n"
    }
   }
  },
  {
   "cell_type": "markdown",
   "source": [
    "### Convert boundary into poly for osmosis filtering"
   ],
   "metadata": {
    "collapsed": false,
    "pycharm": {
     "name": "#%% md\n"
    }
   }
  },
  {
   "cell_type": "code",
   "execution_count": 7,
   "outputs": [],
   "source": [
    "dw.shp2poly(filter, targetfile=\"D:\\\\synthetic-sweden\\\\dbs\\\\network\\\\vgr_filter.poly\")"
   ],
   "metadata": {
    "collapsed": false,
    "pycharm": {
     "name": "#%%\n"
    }
   }
  },
  {
   "cell_type": "markdown",
   "source": [
    "## 2. Population preparation"
   ],
   "metadata": {
    "collapsed": false,
    "pycharm": {
     "name": "#%% md\n"
    }
   }
  },
  {
   "cell_type": "code",
   "execution_count": 3,
   "outputs": [],
   "source": [
    "# h-Home, w-Work, o-Other, s-School\n",
    "activity_purpose_dict = {1: 'h', 4: 'w', 10: 'o', 6: 's'}"
   ],
   "metadata": {
    "collapsed": false,
    "pycharm": {
     "name": "#%%\n"
    }
   }
  },
  {
   "cell_type": "markdown",
   "source": [
    "### Load agents who live in VGR"
   ],
   "metadata": {
    "collapsed": false,
    "pycharm": {
     "name": "#%% md\n"
    }
   }
  },
  {
   "cell_type": "code",
   "execution_count": 4,
   "outputs": [
    {
     "data": {
      "text/plain": "             PId       Deso kommun marital  sex  age     HId  HHtype  HHsize  \\\n1044304  1044305  0643C1030   0643  couple    0   22  322442  couple       3   \n1044305  1044306  0643C1030   0643  couple    1   20  322442  couple       3   \n1044306  1044307  0643C1030   0643   child    0    0  322442  couple       3   \n\n         num_babies  employment  studenthood  income_class  num_cars  HHcars  \\\n1044304           1           1            0             3         1       2   \n1044305           1           0            0             1         1       2   \n1044306           1           0            0             0         0       2   \n\n         pot_car_driver  \n1044304        0.799575  \n1044305        0.576646  \n1044306        0.000000  ",
      "text/html": "<div>\n<style scoped>\n    .dataframe tbody tr th:only-of-type {\n        vertical-align: middle;\n    }\n\n    .dataframe tbody tr th {\n        vertical-align: top;\n    }\n\n    .dataframe thead th {\n        text-align: right;\n    }\n</style>\n<table border=\"1\" class=\"dataframe\">\n  <thead>\n    <tr style=\"text-align: right;\">\n      <th></th>\n      <th>PId</th>\n      <th>Deso</th>\n      <th>kommun</th>\n      <th>marital</th>\n      <th>sex</th>\n      <th>age</th>\n      <th>HId</th>\n      <th>HHtype</th>\n      <th>HHsize</th>\n      <th>num_babies</th>\n      <th>employment</th>\n      <th>studenthood</th>\n      <th>income_class</th>\n      <th>num_cars</th>\n      <th>HHcars</th>\n      <th>pot_car_driver</th>\n    </tr>\n  </thead>\n  <tbody>\n    <tr>\n      <th>1044304</th>\n      <td>1044305</td>\n      <td>0643C1030</td>\n      <td>0643</td>\n      <td>couple</td>\n      <td>0</td>\n      <td>22</td>\n      <td>322442</td>\n      <td>couple</td>\n      <td>3</td>\n      <td>1</td>\n      <td>1</td>\n      <td>0</td>\n      <td>3</td>\n      <td>1</td>\n      <td>2</td>\n      <td>0.799575</td>\n    </tr>\n    <tr>\n      <th>1044305</th>\n      <td>1044306</td>\n      <td>0643C1030</td>\n      <td>0643</td>\n      <td>couple</td>\n      <td>1</td>\n      <td>20</td>\n      <td>322442</td>\n      <td>couple</td>\n      <td>3</td>\n      <td>1</td>\n      <td>0</td>\n      <td>0</td>\n      <td>1</td>\n      <td>1</td>\n      <td>2</td>\n      <td>0.576646</td>\n    </tr>\n    <tr>\n      <th>1044306</th>\n      <td>1044307</td>\n      <td>0643C1030</td>\n      <td>0643</td>\n      <td>child</td>\n      <td>0</td>\n      <td>0</td>\n      <td>322442</td>\n      <td>couple</td>\n      <td>3</td>\n      <td>1</td>\n      <td>0</td>\n      <td>0</td>\n      <td>0</td>\n      <td>0</td>\n      <td>2</td>\n      <td>0.000000</td>\n    </tr>\n  </tbody>\n</table>\n</div>"
     },
     "execution_count": 4,
     "metadata": {},
     "output_type": "execute_result"
    }
   ],
   "source": [
    "df_pop = pd.read_pickle('dbs/agents/syn_pop_vgr.pkl')\n",
    "df_pop.head(3)"
   ],
   "metadata": {
    "collapsed": false,
    "pycharm": {
     "name": "#%%\n"
    }
   }
  },
  {
   "cell_type": "code",
   "execution_count": 5,
   "outputs": [
    {
     "data": {
      "text/plain": "             PId  act_id joint_PId_actid act_purpose  act_start    act_end  \\\n4421287  1044305       0       1044305;0           h   3.000000   7.863121   \n4421288  1044305       1       1044305;1           w   7.954329  11.771308   \n4421289  1044305       2       1044305;2           o  11.862517  12.056344   \n\n        mode  building_ID  building_type       Deso Reg_model  New_Zone_ID  \\\n4421287            353594            130  0643C1030  National      1986231   \n4421288  Car       358719            699  0643C1010  National      1986231   \n4421289  Car       379199            499  0642C1010  National      1986221   \n\n         POINT_X_sweref99  POINT_Y_sweref99    POINT_X    POINT_Y  \n4421287       446134.3136      6.418626e+06  14.091069  57.906175  \n4421288       447177.8607      6.417934e+06  14.108829  57.900082  \n4421289       434141.2081      6.419646e+06  13.888454  57.913722  ",
      "text/html": "<div>\n<style scoped>\n    .dataframe tbody tr th:only-of-type {\n        vertical-align: middle;\n    }\n\n    .dataframe tbody tr th {\n        vertical-align: top;\n    }\n\n    .dataframe thead th {\n        text-align: right;\n    }\n</style>\n<table border=\"1\" class=\"dataframe\">\n  <thead>\n    <tr style=\"text-align: right;\">\n      <th></th>\n      <th>PId</th>\n      <th>act_id</th>\n      <th>joint_PId_actid</th>\n      <th>act_purpose</th>\n      <th>act_start</th>\n      <th>act_end</th>\n      <th>mode</th>\n      <th>building_ID</th>\n      <th>building_type</th>\n      <th>Deso</th>\n      <th>Reg_model</th>\n      <th>New_Zone_ID</th>\n      <th>POINT_X_sweref99</th>\n      <th>POINT_Y_sweref99</th>\n      <th>POINT_X</th>\n      <th>POINT_Y</th>\n    </tr>\n  </thead>\n  <tbody>\n    <tr>\n      <th>4421287</th>\n      <td>1044305</td>\n      <td>0</td>\n      <td>1044305;0</td>\n      <td>h</td>\n      <td>3.000000</td>\n      <td>7.863121</td>\n      <td></td>\n      <td>353594</td>\n      <td>130</td>\n      <td>0643C1030</td>\n      <td>National</td>\n      <td>1986231</td>\n      <td>446134.3136</td>\n      <td>6.418626e+06</td>\n      <td>14.091069</td>\n      <td>57.906175</td>\n    </tr>\n    <tr>\n      <th>4421288</th>\n      <td>1044305</td>\n      <td>1</td>\n      <td>1044305;1</td>\n      <td>w</td>\n      <td>7.954329</td>\n      <td>11.771308</td>\n      <td>Car</td>\n      <td>358719</td>\n      <td>699</td>\n      <td>0643C1010</td>\n      <td>National</td>\n      <td>1986231</td>\n      <td>447177.8607</td>\n      <td>6.417934e+06</td>\n      <td>14.108829</td>\n      <td>57.900082</td>\n    </tr>\n    <tr>\n      <th>4421289</th>\n      <td>1044305</td>\n      <td>2</td>\n      <td>1044305;2</td>\n      <td>o</td>\n      <td>11.862517</td>\n      <td>12.056344</td>\n      <td>Car</td>\n      <td>379199</td>\n      <td>499</td>\n      <td>0642C1010</td>\n      <td>National</td>\n      <td>1986221</td>\n      <td>434141.2081</td>\n      <td>6.419646e+06</td>\n      <td>13.888454</td>\n      <td>57.913722</td>\n    </tr>\n  </tbody>\n</table>\n</div>"
     },
     "execution_count": 5,
     "metadata": {},
     "output_type": "execute_result"
    }
   ],
   "source": [
    "df_plan = pd.read_pickle('dbs/agents/df_act_plan_vgr.pkl')\n",
    "df_plan['act_purpose'] = df_plan['act_purpose'].map(activity_purpose_dict)\n",
    "df_plan.head(3)"
   ],
   "metadata": {
    "collapsed": false,
    "pycharm": {
     "name": "#%%\n"
    }
   }
  },
  {
   "cell_type": "code",
   "execution_count": 6,
   "outputs": [
    {
     "name": "stdout",
     "output_type": "stream",
     "text": [
      "['h' 'w' 'o' 's']\n"
     ]
    }
   ],
   "source": [
    "print(df_plan.act_purpose.unique())"
   ],
   "metadata": {
    "collapsed": false,
    "pycharm": {
     "name": "#%%\n"
    }
   }
  },
  {
   "cell_type": "code",
   "execution_count": 7,
   "outputs": [
    {
     "name": "stdout",
     "output_type": "stream",
     "text": [
      "['' 'Car' 'Walking' 'CarPassenger' 'Bike' 'PublicTransport']\n"
     ]
    }
   ],
   "source": [
    "print(df_plan['mode'].unique())"
   ],
   "metadata": {
    "collapsed": false,
    "pycharm": {
     "name": "#%%\n"
    }
   }
  },
  {
   "cell_type": "markdown",
   "source": [
    "### Sample agents for simulation\n",
    "Create a subset of car users from all VG population."
   ],
   "metadata": {
    "collapsed": false,
    "pycharm": {
     "name": "#%% md\n"
    }
   }
  },
  {
   "cell_type": "code",
   "execution_count": 18,
   "outputs": [],
   "source": [
    "agents_car_users = df_plan.loc[df_plan['mode'].isin(['Car', 'CarPassenger']), 'PId'].unique()\n",
    "df_plan_sim = df_plan.loc[df_plan['PId'].isin(agents_car_users), :]"
   ],
   "metadata": {
    "collapsed": false,
    "pycharm": {
     "name": "#%%\n"
    }
   }
  },
  {
   "cell_type": "markdown",
   "source": [
    "#### Dump the agents' activity plans into MATSim format\n",
    "Excluding those who\n",
    "\n",
    "1) do not move (stay home),\n",
    "2) start and end locations are not the same"
   ],
   "metadata": {
    "collapsed": false,
    "pycharm": {
     "name": "#%% md\n"
    }
   }
  },
  {
   "cell_type": "code",
   "execution_count": 15,
   "outputs": [],
   "source": [
    "purpose_dict = {'h': 'home', 'o': 'other', 'w': 'work', 's': 'school'}\n",
    "mode_dict = {'Car': 'car', 'CarPassenger': 'car', 'Bike': 'bike',\n",
    "             'Walking': 'walk', 'PublicTransport': 'pt'}"
   ],
   "metadata": {
    "collapsed": false,
    "pycharm": {
     "name": "#%%\n"
    }
   }
  },
  {
   "cell_type": "code",
   "execution_count": 16,
   "outputs": [],
   "source": [
    "def data2xml(data):\n",
    "    num_activities = len(data)\n",
    "    # Modes between activities\n",
    "    mode_array = data['mode'].values[1:]\n",
    "    act_purpose_array = data['act_purpose'].values\n",
    "    X_array = data['POINT_X_sweref99'].values\n",
    "    Y_array = data['POINT_Y_sweref99'].values\n",
    "    act_end_array = data['act_end'].values\n",
    "    # Process the case where the last activity crosses 0\n",
    "    if act_end_array[-2] < 3:\n",
    "        act_purpose_array = np.concatenate((act_purpose_array[-2], act_purpose_array[:-1]), axis=None)\n",
    "        X_array = np.concatenate((X_array[-2], X_array[:-1]), axis=None)\n",
    "        Y_array = np.concatenate((Y_array[-2], Y_array[:-1]), axis=None)\n",
    "        act_end_array = np.concatenate((act_end_array[-2], act_end_array[:-1]), axis=None)\n",
    "        act_end_array[-1] = 23.99\n",
    "    # Excluding those who 1) do not move (stay home),\n",
    "    # 2) start and end locations are not the same\n",
    "    if (num_activities > 2) & (act_purpose_array[0] == act_purpose_array[-1]):\n",
    "        writer.start_person(person_id=data['PId'].values[0])\n",
    "        writer.start_plan(selected=True)\n",
    "        for i in range(num_activities):\n",
    "            # The last activity is always home\n",
    "            if i == num_activities - 1:\n",
    "                writer.add_activity(type=purpose_dict[act_purpose_array[i]],\n",
    "                                    x=X_array[i],\n",
    "                                    y=Y_array[i])\n",
    "            else:\n",
    "                writer.add_activity(type=purpose_dict[act_purpose_array[i]],\n",
    "                        x=X_array[i],\n",
    "                        y=Y_array[i],\n",
    "                        end_time=act_end_array[i]*3600)\n",
    "                writer.add_leg(mode=mode_dict[mode_array[i]])\n",
    "        writer.end_plan()\n",
    "        writer.end_person()"
   ],
   "metadata": {
    "collapsed": false,
    "pycharm": {
     "name": "#%%\n"
    }
   }
  },
  {
   "cell_type": "code",
   "execution_count": 19,
   "outputs": [
    {
     "name": "stderr",
     "output_type": "stream",
     "text": [
      "100%|██████████| 839765/839765 [06:46<00:00, 2065.17it/s]\n"
     ]
    }
   ],
   "source": [
    "with gzip.open(\"dbs/agents/plans_cars.xml.gz\", 'wb+') as f_write:\n",
    "    writer = matsim.writers.PopulationWriter(f_write)\n",
    "    writer.start_population()\n",
    "    tqdm.pandas()\n",
    "    df_plan_sim.groupby('PId').progress_apply(data2xml)\n",
    "    writer.end_population()"
   ],
   "metadata": {
    "collapsed": false,
    "pycharm": {
     "name": "#%%\n"
    }
   }
  }
 ],
 "metadata": {
  "kernelspec": {
   "display_name": "Python 3",
   "language": "python",
   "name": "python3"
  },
  "language_info": {
   "codemirror_mode": {
    "name": "ipython",
    "version": 2
   },
   "file_extension": ".py",
   "mimetype": "text/x-python",
   "name": "python",
   "nbconvert_exporter": "python",
   "pygments_lexer": "ipython2",
   "version": "2.7.6"
  }
 },
 "nbformat": 4,
 "nbformat_minor": 0
}