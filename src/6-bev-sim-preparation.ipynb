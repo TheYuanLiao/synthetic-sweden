{
 "cells": [
  {
   "cell_type": "markdown",
   "source": [
    "# BEV simulation preparation\n",
    "Check a variety of MATSim output data of trajectories and prepare BEV simulation."
   ],
   "metadata": {
    "collapsed": false
   }
  },
  {
   "cell_type": "code",
   "execution_count": null,
   "outputs": [],
   "source": [
    "import tqdm\n",
    "%load_ext autoreload\n",
    "%autoreload 2\n",
    "%cd D:\\synthetic-sweden\n",
    "%matplotlib inline"
   ],
   "metadata": {
    "collapsed": false,
    "pycharm": {
     "name": "#%%\n"
    }
   }
  },
  {
   "cell_type": "code",
   "execution_count": null,
   "outputs": [],
   "source": [
    "# Load libs\n",
    "import geopandas as gpd\n",
    "import pandas as pd\n",
    "from tqdm import tqdm\n",
    "import matsim\n",
    "from collections import defaultdict\n",
    "import lib.dataworkers as workers"
   ],
   "metadata": {
    "collapsed": false,
    "pycharm": {
     "name": "#%%\n"
    }
   }
  },
  {
   "cell_type": "code",
   "execution_count": null,
   "outputs": [],
   "source": [
    "scenario = 'scenario_vg_car'\n",
    "file_path2output = f'dbs/{scenario}/output/'"
   ],
   "metadata": {
    "collapsed": false,
    "pycharm": {
     "name": "#%%\n"
    }
   }
  },
  {
   "cell_type": "code",
   "execution_count": null,
   "outputs": [],
   "source": [
    "# read network\n",
    "net = matsim.read_network(file_path2output + 'output_network.xml.gz')\n",
    "geo = net.as_geo()  # combines links+nodes into a Geopandas dataframe with LINESTRINGs"
   ],
   "metadata": {
    "collapsed": false,
    "pycharm": {
     "name": "#%%\n"
    }
   }
  },
  {
   "cell_type": "markdown",
   "source": [
    "## 1. Traffic on the road network"
   ],
   "metadata": {
    "collapsed": false
   }
  },
  {
   "cell_type": "code",
   "execution_count": null,
   "outputs": [],
   "source": [
    "events = matsim.event_reader(file_path2output + 'output_events.xml.gz', types='entered link,left link')\n",
    "\n",
    "link_counts = defaultdict(int) # defaultdict creates a blank dict entry on first reference\n",
    "\n",
    "for event in tqdm(events, desc='Streaming events'):\n",
    "    if event['type'] == 'entered link':\n",
    "        link_counts[event['link']] += 1\n",
    "\n",
    "# convert our link_counts dict to a pandas dataframe,\n",
    "# with 'link_id' column as the index and 'count' column with value:\n",
    "link_counts = pd.DataFrame.from_dict(link_counts, orient='index', columns=['count']).rename_axis('link_id')\n",
    "\n",
    "# attach counts to our Geopandas network from above\n",
    "volumes = geo.merge(link_counts, on='link_id')\n",
    "volumes.plot(column='count', figsize=(10,10), cmap='Wistia') #cmap is colormap"
   ],
   "metadata": {
    "collapsed": false,
    "pycharm": {
     "name": "#%%\n"
    }
   }
  },
  {
   "cell_type": "code",
   "execution_count": null,
   "outputs": [],
   "source": [
    "volumes.to_file(f'dbs/output_summary/{scenario}/volumes.shp')"
   ],
   "metadata": {
    "collapsed": false,
    "pycharm": {
     "name": "#%%\n"
    }
   }
  },
  {
   "cell_type": "markdown",
   "source": [
    "## 2. Parking opportunities"
   ],
   "metadata": {
    "collapsed": false
   }
  },
  {
   "cell_type": "code",
   "execution_count": null,
   "outputs": [],
   "source": [
    "# Load output plan\n",
    "plans = matsim.plan_reader(file_path2output + 'output_experienced_plans.xml.gz', selectedPlansOnly=True)\n",
    "# Aggregate all individuals' plans\n",
    "df_output = workers.plans_summary(pd.concat([workers.personplan2df(person, plan, experienced=True) for person, plan in plans]))"
   ],
   "metadata": {
    "collapsed": false,
    "pycharm": {
     "name": "#%%\n"
    }
   }
  },
  {
   "cell_type": "code",
   "execution_count": null,
   "outputs": [],
   "source": [
    "df_output_car = df_output.loc[df_output['mode'] == 'car', ['PId', 'act_id', 'act_purpose', 'dep_time', 'trav_time_min', 'act_time', 'act_end', 'POINT_X', 'POINT_Y']]"
   ],
   "metadata": {
    "collapsed": false,
    "pycharm": {
     "name": "#%%\n"
    }
   }
  },
  {
   "cell_type": "code",
   "execution_count": null,
   "outputs": [],
   "source": [
    "df_output_car.loc[:, 'home'] = df_output_car.loc[:, 'act_purpose'].apply(lambda x: 1 if x == 'home' else 0)\n",
    "df_parking = df_output_car.groupby(['POINT_X', 'POINT_Y', 'home'])['act_time'].sum().reset_index(name ='parking_time_min')"
   ],
   "metadata": {
    "collapsed": false,
    "pycharm": {
     "name": "#%%\n"
    }
   }
  },
  {
   "cell_type": "code",
   "execution_count": null,
   "outputs": [],
   "source": [
    "df_parking.to_csv(f'dbs/output_summary/{scenario}/parking_time.csv', index=False)"
   ],
   "metadata": {
    "collapsed": false,
    "pycharm": {
     "name": "#%%\n"
    }
   }
  },
  {
   "cell_type": "markdown",
   "source": [
    "## 3. Get individual trajectories for BEV simulation"
   ],
   "metadata": {
    "collapsed": false
   }
  },
  {
   "cell_type": "markdown",
   "source": [
    "| Event type             | Information                                          | Note                   |\n",
    "|------------------------|------------------------------------------------------|------------------------|\n",
    "| actend                 | person, link, actType                                | 0                      |\n",
    "| departure              | person, link, legMode                                | 0                      |\n",
    "| PersonEntersVehicle    | person, vehicle                                      | 0, person=vehicle      |\n",
    "| vehicle enters traffic | person, link, vehicle, networkMode, relativePosition | 0                      |\n",
    "| left link              | link, vehicle                                        | 1                      |\n",
    "| entered link           | link, vehicle                                        | 1                      |\n",
    "| travelled              | person, distance, mode                               | 1, mode=pt, bike, walk |\n",
    "| arrival                | person, link, legMode                                | 2                      |\n",
    "| actstart               | person, link, x, y, actType                          | 2                      |\n",
    "| vehicle leaves traffic | person, link, vehicle, networkMode, relativePosition | 2                      |\n",
    "| PersonLeavesVehicle    | person, vehicle                                      | 2                      |\n",
    "\n",
    "Stage 0: 'actend', 'departure', 'PersonEntersVehicle', 'vehicle enters traffic'\n",
    "\n",
    "Stage 1: 'left link', 'entered link', 'travelled'\n",
    "\n",
    "Stage 2: 'arrival', 'actstart', 'vehicle leaves traffic', 'PersonLeavesVehicle'\n"
   ],
   "metadata": {
    "collapsed": false
   }
  },
  {
   "cell_type": "code",
   "execution_count": null,
   "outputs": [],
   "source": [
    "# Create event batches for BEV simulation\n",
    "workers.matsim_events2database(scenario=scenario)\n",
    "workers.eventsdb2batches(scenario=scenario, batch_num=20)"
   ],
   "metadata": {
    "collapsed": false,
    "pycharm": {
     "name": "#%%\n"
    }
   }
  },
  {
   "cell_type": "markdown",
   "source": [
    "## 4 Get slope for the road network\n",
    "The volumes network is processed with DEM data using `add_slope.model3` in QGIS to get slope information.\n",
    "\n",
    "1) Split lines by maximum distance = 500 m.\n",
    "2) Reproject to 3035.\n",
    "3) Get elevation information (Drape).\n",
    "4) Extract Z value.\n",
    "5) Calculate slope by (z_last - z_first) / length_seg\n",
    "6) Reproject to 3006.\n",
    "5) Add line lengths."
   ],
   "metadata": {
    "collapsed": false
   }
  },
  {
   "cell_type": "code",
   "execution_count": null,
   "outputs": [],
   "source": [
    "network = gpd.read_file(f'dbs/output_summary/{scenario}/volumes_slope.shp')\n",
    "network.head()"
   ],
   "metadata": {
    "collapsed": false,
    "pycharm": {
     "name": "#%%\n"
    }
   }
  },
  {
   "cell_type": "markdown",
   "source": [
    "#### 4.1.1 Set length_seg < 30 m roads' slope to 0"
   ],
   "metadata": {
    "collapsed": false
   }
  },
  {
   "cell_type": "code",
   "execution_count": null,
   "outputs": [],
   "source": [
    "network.loc[network['length_seg'] < 30, 'slope'] = 0\n",
    "len(network.loc[network['slope'] < -0.06, :]) / len(network), len(network.loc[network['slope'] > 0.06, :]) / len(network)"
   ],
   "metadata": {
    "collapsed": false,
    "pycharm": {
     "name": "#%%\n"
    }
   }
  },
  {
   "cell_type": "markdown",
   "source": [
    "#### 4.1.2 Set roads' slope not in \\[-6%, 6%] to 6% / -6%"
   ],
   "metadata": {
    "collapsed": false
   }
  },
  {
   "cell_type": "code",
   "execution_count": null,
   "outputs": [],
   "source": [
    "network.loc[network['slope'] < -0.06, 'slope'] = -0.06\n",
    "network.loc[network['slope'] > 0.06, 'slope'] = 0.06\n",
    "network.loc[:, 'slope'] *= 100"
   ],
   "metadata": {
    "collapsed": false,
    "pycharm": {
     "name": "#%%\n"
    }
   }
  },
  {
   "cell_type": "markdown",
   "source": [
    "## 5. Access to home charger"
   ],
   "metadata": {
    "collapsed": false
   }
  },
  {
   "cell_type": "code",
   "execution_count": null,
   "outputs": [],
   "source": [
    "activity_purpose_dict = {1: 'h', 4: 'w', 10: 'o', 6: 's'}\n",
    "df_plan = pd.read_pickle('dbs/agents/df_act_plan_vgr.pkl')\n",
    "df_plan = df_plan.loc[:, ['PId', 'act_purpose', 'building_type']]\n",
    "df_plan['act_purpose'] = df_plan['act_purpose'].map(activity_purpose_dict)\n",
    "df_plan = df_plan.loc[df_plan['act_purpose'] == 'h', :].drop_duplicates(subset=['PId', 'act_purpose'])\n",
    "\n",
    "# Detached houses coding\n",
    "building_dict = {130: 1, 131: 1, 132: 1}\n",
    "df_plan.loc[:, 'home_charger'] = df_plan.loc[:, 'building_type'].apply(lambda x: building_dict[x] if x in building_dict else 0)\n",
    "print(\"Share of access to home charger: %.2f %%\"%(len(df_plan.loc[df_plan['home_charger'] == 1, :]) / (len(df_plan)) * 100))\n",
    "\n",
    "# Save home charger information\n",
    "df_plan.loc[:, ['PId', 'building_type', 'home_charger']].to_csv(f'dbs/output_summary/home_charger_access.csv', index=False)"
   ],
   "metadata": {
    "collapsed": false,
    "pycharm": {
     "name": "#%%\n"
    }
   }
  },
  {
   "cell_type": "markdown",
   "source": [
    "## 6. Charging opportunities"
   ],
   "metadata": {
    "collapsed": false,
    "pycharm": {
     "name": "#%% md\n"
    }
   }
  },
  {
   "cell_type": "code",
   "execution_count": null,
   "outputs": [],
   "source": [
    "file_path2output_summary = f'dbs/output_summary/{scenario}/'\n",
    "# Focus only on valid agents' trips\n",
    "agents = pd.read_csv(file_path2output_summary + \"valid_agents.csv\")\n",
    "df_trips = pd.read_csv(file_path2output_summary + 'trips.csv')\n",
    "df_trips_input = df_trips.loc[(df_trips['src'] == 'input') & (df_trips['PId']).isin(agents.PId), ['PId', 'act_id', 'Deso']]\n",
    "df_trips = df_trips.loc[(df_trips['src'] == 'output') & (df_trips['PId']).isin(agents.PId), :]"
   ],
   "metadata": {
    "collapsed": false,
    "pycharm": {
     "name": "#%%\n"
    }
   }
  },
  {
   "cell_type": "code",
   "execution_count": null,
   "outputs": [],
   "source": [
    "# Fill start location\n",
    "def fill_start_location(data):\n",
    "\n",
    "    x = data.loc[:, 'POINT_X'].values\n",
    "    x[0] = x[-1]\n",
    "    y = data.loc[:, 'POINT_Y'].values\n",
    "    y[0] = y[-1]\n",
    "    data.loc[:, 'POINT_X'] = x\n",
    "    data.loc[:, 'POINT_Y'] = y\n",
    "    return data\n",
    "tqdm.pandas()\n",
    "df_trips = df_trips.groupby('PId').progress_apply(fill_start_location).reset_index(drop=True)"
   ],
   "metadata": {
    "collapsed": false,
    "pycharm": {
     "name": "#%%\n"
    }
   }
  },
  {
   "cell_type": "markdown",
   "source": [
    "Add act_start and deso zones from input, and save data."
   ],
   "metadata": {
    "collapsed": false,
    "pycharm": {
     "name": "#%% md\n"
    }
   }
  },
  {
   "cell_type": "code",
   "execution_count": null,
   "outputs": [],
   "source": [
    "df_trips.loc[:, 'act_start'] = round((df_trips.loc[:, 'dep_time'] + df_trips.loc[:, 'trav_time_min'] / 60) * 60)\n",
    "df_trips.loc[:, 'act_start'] = df_trips.loc[:, 'act_start'].astype(int)\n",
    "df_trips_pro = df_trips.drop(columns=['Deso']).merge(df_trips_input, how='left', on=['PId','act_id']).rename(columns={'Deso': 'deso'})\n",
    "df_trips_pro.to_csv(file_path2output_summary + 'charging_opportunity.csv', index=False)"
   ],
   "metadata": {
    "collapsed": false,
    "pycharm": {
     "name": "#%%\n"
    }
   }
  }
 ],
 "metadata": {
  "kernelspec": {
   "display_name": "Python 3",
   "language": "python",
   "name": "python3"
  },
  "language_info": {
   "codemirror_mode": {
    "name": "ipython",
    "version": 2
   },
   "file_extension": ".py",
   "mimetype": "text/x-python",
   "name": "python",
   "nbconvert_exporter": "python",
   "pygments_lexer": "ipython2",
   "version": "2.7.6"
  }
 },
 "nbformat": 4,
 "nbformat_minor": 0
}