{
 "cells": [
  {
   "cell_type": "markdown",
   "metadata": {
    "collapsed": true,
    "pycharm": {
     "name": "#%% md\n"
    }
   },
   "source": [
    "# Agents processing\n",
    "1) Generate a subset of agents who live within Västra Gätalands Region."
   ]
  },
  {
   "cell_type": "code",
   "execution_count": 1,
   "outputs": [
    {
     "name": "stdout",
     "output_type": "stream",
     "text": [
      "D:\\synthetic-sweden\n"
     ]
    }
   ],
   "source": [
    "%load_ext autoreload\n",
    "%autoreload 2\n",
    "%cd D:\\synthetic-sweden"
   ],
   "metadata": {
    "collapsed": false,
    "pycharm": {
     "name": "#%%\n"
    }
   }
  },
  {
   "cell_type": "code",
   "execution_count": 2,
   "outputs": [],
   "source": [
    "# Load libs\n",
    "import pandas as pd\n",
    "import geopandas as gpd\n",
    "from tqdm import tqdm\n",
    "import dataworkers as dw"
   ],
   "metadata": {
    "collapsed": false,
    "pycharm": {
     "name": "#%%\n"
    }
   }
  },
  {
   "cell_type": "markdown",
   "source": [
    "## Load boundary"
   ],
   "metadata": {
    "collapsed": false,
    "pycharm": {
     "name": "#%% md\n"
    }
   }
  },
  {
   "cell_type": "code",
   "execution_count": 3,
   "outputs": [],
   "source": [
    "boundary = gpd.read_file('dbs/municipalities/sweden_komk.shp')\n",
    "mun_in_boundary = list(boundary.loc[boundary['county'] == 'Västra Götaland', 'KnKod'].values)"
   ],
   "metadata": {
    "collapsed": false,
    "pycharm": {
     "name": "#%%\n"
    }
   }
  },
  {
   "cell_type": "markdown",
   "source": [
    "## Load agents and their daily plans"
   ],
   "metadata": {
    "collapsed": false,
    "pycharm": {
     "name": "#%% md\n"
    }
   }
  },
  {
   "cell_type": "code",
   "execution_count": 4,
   "outputs": [
    {
     "data": {
      "text/plain": "   PId       Deso kommun marital  sex  age HId  HHtype  HHsize  num_babies  \\\n0    1  0115A0040   0115  couple    1   22   1  couple       2           0   \n1    2  0115A0040   0115  couple    0   20   1  couple       2           0   \n2    3  0115A0040   0115  couple    0   21   2  couple       2           0   \n\n   employment  studenthood  income_class  num_cars  HHcars  pot_car_driver  \n0           1            0             1         0       0        0.279179  \n1           0            1             0         0       0        0.044359  \n2           1            1             2         1       2        0.068788  ",
      "text/html": "<div>\n<style scoped>\n    .dataframe tbody tr th:only-of-type {\n        vertical-align: middle;\n    }\n\n    .dataframe tbody tr th {\n        vertical-align: top;\n    }\n\n    .dataframe thead th {\n        text-align: right;\n    }\n</style>\n<table border=\"1\" class=\"dataframe\">\n  <thead>\n    <tr style=\"text-align: right;\">\n      <th></th>\n      <th>PId</th>\n      <th>Deso</th>\n      <th>kommun</th>\n      <th>marital</th>\n      <th>sex</th>\n      <th>age</th>\n      <th>HId</th>\n      <th>HHtype</th>\n      <th>HHsize</th>\n      <th>num_babies</th>\n      <th>employment</th>\n      <th>studenthood</th>\n      <th>income_class</th>\n      <th>num_cars</th>\n      <th>HHcars</th>\n      <th>pot_car_driver</th>\n    </tr>\n  </thead>\n  <tbody>\n    <tr>\n      <th>0</th>\n      <td>1</td>\n      <td>0115A0040</td>\n      <td>0115</td>\n      <td>couple</td>\n      <td>1</td>\n      <td>22</td>\n      <td>1</td>\n      <td>couple</td>\n      <td>2</td>\n      <td>0</td>\n      <td>1</td>\n      <td>0</td>\n      <td>1</td>\n      <td>0</td>\n      <td>0</td>\n      <td>0.279179</td>\n    </tr>\n    <tr>\n      <th>1</th>\n      <td>2</td>\n      <td>0115A0040</td>\n      <td>0115</td>\n      <td>couple</td>\n      <td>0</td>\n      <td>20</td>\n      <td>1</td>\n      <td>couple</td>\n      <td>2</td>\n      <td>0</td>\n      <td>0</td>\n      <td>1</td>\n      <td>0</td>\n      <td>0</td>\n      <td>0</td>\n      <td>0.044359</td>\n    </tr>\n    <tr>\n      <th>2</th>\n      <td>3</td>\n      <td>0115A0040</td>\n      <td>0115</td>\n      <td>couple</td>\n      <td>0</td>\n      <td>21</td>\n      <td>2</td>\n      <td>couple</td>\n      <td>2</td>\n      <td>0</td>\n      <td>1</td>\n      <td>1</td>\n      <td>2</td>\n      <td>1</td>\n      <td>2</td>\n      <td>0.068788</td>\n    </tr>\n  </tbody>\n</table>\n</div>"
     },
     "execution_count": 4,
     "metadata": {},
     "output_type": "execute_result"
    }
   ],
   "source": [
    "df_pop = pd.read_pickle('dbs/agents/syn_pop_all.pkl')\n",
    "df_pop.head(3)"
   ],
   "metadata": {
    "collapsed": false,
    "pycharm": {
     "name": "#%%\n"
    }
   }
  },
  {
   "cell_type": "code",
   "execution_count": 5,
   "outputs": [
    {
     "name": "stdout",
     "output_type": "stream",
     "text": [
      "Agents live in Västra Götalands: 1717772\n"
     ]
    }
   ],
   "source": [
    "df_pop_sub = df_pop.loc[df_pop['kommun'].isin(mun_in_boundary), :]\n",
    "print(\"Agents live in Västra Götalands: %s\"%len(df_pop_sub))"
   ],
   "metadata": {
    "collapsed": false,
    "pycharm": {
     "name": "#%%\n"
    }
   }
  },
  {
   "cell_type": "code",
   "execution_count": 6,
   "outputs": [
    {
     "data": {
      "text/plain": "   PId  act_id joint_PId_actid  act_purpose  act_start    act_end  \\\n0    1       0             1;0            1   3.000000   7.293010   \n1    1       1             1;1            4   7.762524  13.693192   \n2    1       2             1;2           10  14.162705  16.888355   \n\n           mode  building_ID  building_type       Deso Reg_model  New_Zone_ID  \\\n0                    4170405            130  0115A0040      Samm      3711513   \n1  CarPassenger      3725941            399  0180C3560      Samm      3720172   \n2  CarPassenger      3749926            499  0180C3090      Samm      3710407   \n\n   POINT_X_sweref99  POINT_Y_sweref99    POINT_X    POINT_Y  \n0       684203.6685      6.617561e+06  18.269388  59.655295  \n1       670042.8868      6.579364e+06  17.988031  59.318781  \n2       670286.4225      6.578486e+06  17.991611  59.310809  ",
      "text/html": "<div>\n<style scoped>\n    .dataframe tbody tr th:only-of-type {\n        vertical-align: middle;\n    }\n\n    .dataframe tbody tr th {\n        vertical-align: top;\n    }\n\n    .dataframe thead th {\n        text-align: right;\n    }\n</style>\n<table border=\"1\" class=\"dataframe\">\n  <thead>\n    <tr style=\"text-align: right;\">\n      <th></th>\n      <th>PId</th>\n      <th>act_id</th>\n      <th>joint_PId_actid</th>\n      <th>act_purpose</th>\n      <th>act_start</th>\n      <th>act_end</th>\n      <th>mode</th>\n      <th>building_ID</th>\n      <th>building_type</th>\n      <th>Deso</th>\n      <th>Reg_model</th>\n      <th>New_Zone_ID</th>\n      <th>POINT_X_sweref99</th>\n      <th>POINT_Y_sweref99</th>\n      <th>POINT_X</th>\n      <th>POINT_Y</th>\n    </tr>\n  </thead>\n  <tbody>\n    <tr>\n      <th>0</th>\n      <td>1</td>\n      <td>0</td>\n      <td>1;0</td>\n      <td>1</td>\n      <td>3.000000</td>\n      <td>7.293010</td>\n      <td></td>\n      <td>4170405</td>\n      <td>130</td>\n      <td>0115A0040</td>\n      <td>Samm</td>\n      <td>3711513</td>\n      <td>684203.6685</td>\n      <td>6.617561e+06</td>\n      <td>18.269388</td>\n      <td>59.655295</td>\n    </tr>\n    <tr>\n      <th>1</th>\n      <td>1</td>\n      <td>1</td>\n      <td>1;1</td>\n      <td>4</td>\n      <td>7.762524</td>\n      <td>13.693192</td>\n      <td>CarPassenger</td>\n      <td>3725941</td>\n      <td>399</td>\n      <td>0180C3560</td>\n      <td>Samm</td>\n      <td>3720172</td>\n      <td>670042.8868</td>\n      <td>6.579364e+06</td>\n      <td>17.988031</td>\n      <td>59.318781</td>\n    </tr>\n    <tr>\n      <th>2</th>\n      <td>1</td>\n      <td>2</td>\n      <td>1;2</td>\n      <td>10</td>\n      <td>14.162705</td>\n      <td>16.888355</td>\n      <td>CarPassenger</td>\n      <td>3749926</td>\n      <td>499</td>\n      <td>0180C3090</td>\n      <td>Samm</td>\n      <td>3710407</td>\n      <td>670286.4225</td>\n      <td>6.578486e+06</td>\n      <td>17.991611</td>\n      <td>59.310809</td>\n    </tr>\n  </tbody>\n</table>\n</div>"
     },
     "execution_count": 6,
     "metadata": {},
     "output_type": "execute_result"
    }
   ],
   "source": [
    "df_plan = pd.read_pickle('dbs/agents/df_act_plan.pkl')\n",
    "df_plan.head(3)"
   ],
   "metadata": {
    "collapsed": false,
    "pycharm": {
     "name": "#%%\n"
    }
   }
  },
  {
   "cell_type": "code",
   "execution_count": 7,
   "outputs": [
    {
     "name": "stdout",
     "output_type": "stream",
     "text": [
      "Agents live in Västra Götalands have activities: 7009790\n"
     ]
    }
   ],
   "source": [
    "df_plan_sub = df_plan.loc[df_plan['PId'].isin(df_pop_sub.PId), :]\n",
    "print(\"Agents live in Västra Götalands have activities: %s\"%len(df_plan_sub))"
   ],
   "metadata": {
    "collapsed": false,
    "pycharm": {
     "name": "#%%\n"
    }
   }
  },
  {
   "cell_type": "markdown",
   "source": [
    "## Keep agents and their activities if they all locate within the boundary\n",
    "This is not necessary anymore for the current version of case study."
   ],
   "metadata": {
    "collapsed": false,
    "pycharm": {
     "name": "#%% md\n"
    }
   }
  },
  {
   "cell_type": "code",
   "execution_count": 37,
   "outputs": [
    {
     "data": {
      "text/plain": "             PId  act_id joint_PId_actid  act_purpose  act_start    act_end  \\\n4421287  1044305       0       1044305;0            1   3.000000   7.863121   \n4421288  1044305       1       1044305;1            4   7.954329  11.771308   \n\n        mode  building_ID  building_type       Deso Reg_model  New_Zone_ID  \\\n4421287            353594            130  0643C1030  National      1986231   \n4421288  Car       358719            699  0643C1010  National      1986231   \n\n         POINT_X_sweref99  POINT_Y_sweref99    POINT_X    POINT_Y  \\\n4421287       446134.3136      6.418626e+06  14.091069  57.906175   \n4421288       447177.8607      6.417934e+06  14.108829  57.900082   \n\n                          geometry  boundary  \n4421287  POINT (14.09107 57.90617)     False  \n4421288  POINT (14.10883 57.90008)     False  ",
      "text/html": "<div>\n<style scoped>\n    .dataframe tbody tr th:only-of-type {\n        vertical-align: middle;\n    }\n\n    .dataframe tbody tr th {\n        vertical-align: top;\n    }\n\n    .dataframe thead th {\n        text-align: right;\n    }\n</style>\n<table border=\"1\" class=\"dataframe\">\n  <thead>\n    <tr style=\"text-align: right;\">\n      <th></th>\n      <th>PId</th>\n      <th>act_id</th>\n      <th>joint_PId_actid</th>\n      <th>act_purpose</th>\n      <th>act_start</th>\n      <th>act_end</th>\n      <th>mode</th>\n      <th>building_ID</th>\n      <th>building_type</th>\n      <th>Deso</th>\n      <th>Reg_model</th>\n      <th>New_Zone_ID</th>\n      <th>POINT_X_sweref99</th>\n      <th>POINT_Y_sweref99</th>\n      <th>POINT_X</th>\n      <th>POINT_Y</th>\n      <th>geometry</th>\n      <th>boundary</th>\n    </tr>\n  </thead>\n  <tbody>\n    <tr>\n      <th>4421287</th>\n      <td>1044305</td>\n      <td>0</td>\n      <td>1044305;0</td>\n      <td>1</td>\n      <td>3.000000</td>\n      <td>7.863121</td>\n      <td></td>\n      <td>353594</td>\n      <td>130</td>\n      <td>0643C1030</td>\n      <td>National</td>\n      <td>1986231</td>\n      <td>446134.3136</td>\n      <td>6.418626e+06</td>\n      <td>14.091069</td>\n      <td>57.906175</td>\n      <td>POINT (14.09107 57.90617)</td>\n      <td>False</td>\n    </tr>\n    <tr>\n      <th>4421288</th>\n      <td>1044305</td>\n      <td>1</td>\n      <td>1044305;1</td>\n      <td>4</td>\n      <td>7.954329</td>\n      <td>11.771308</td>\n      <td>Car</td>\n      <td>358719</td>\n      <td>699</td>\n      <td>0643C1010</td>\n      <td>National</td>\n      <td>1986231</td>\n      <td>447177.8607</td>\n      <td>6.417934e+06</td>\n      <td>14.108829</td>\n      <td>57.900082</td>\n      <td>POINT (14.10883 57.90008)</td>\n      <td>False</td>\n    </tr>\n  </tbody>\n</table>\n</div>"
     },
     "execution_count": 37,
     "metadata": {},
     "output_type": "execute_result"
    }
   ],
   "source": [
    "gdf = dw.df2gdf_point(df_plan_sub, 'POINT_X', 'POINT_Y', crs=4326, drop=False)\n",
    "gdf.loc[:, 'boundary'] = gdf.apply(lambda row: boundary.contains(row.geometry), axis=1)\n",
    "gdf.head(2)"
   ],
   "metadata": {
    "collapsed": false,
    "pycharm": {
     "name": "#%%\n"
    }
   }
  },
  {
   "cell_type": "code",
   "execution_count": 63,
   "outputs": [
    {
     "name": "stderr",
     "output_type": "stream",
     "text": [
      "100%|██████████| 1717772/1717772 [12:07<00:00, 2361.53it/s]\n"
     ]
    }
   ],
   "source": [
    "tqdm.pandas()\n",
    "df_id2select = gdf.groupby('PId').progress_apply(lambda g: all(g['boundary'])).reset_index(name='select')\n",
    "id2select = df_id2select.loc[df_id2select['select'], 'PId'].values"
   ],
   "metadata": {
    "collapsed": false,
    "pycharm": {
     "name": "#%%\n"
    }
   }
  },
  {
   "cell_type": "markdown",
   "source": [
    "## Save agents and their plans for a subset in VRG"
   ],
   "metadata": {
    "collapsed": false,
    "pycharm": {
     "name": "#%% md\n"
    }
   }
  },
  {
   "cell_type": "code",
   "execution_count": 8,
   "outputs": [],
   "source": [
    "df_plan_sub.to_pickle(\"dbs/agents/df_act_plan_vgr.pkl\")\n",
    "df_pop_sub.to_pickle(\"dbs/agents/syn_pop_vgr.pkl\")"
   ],
   "metadata": {
    "collapsed": false,
    "pycharm": {
     "name": "#%%\n"
    }
   }
  }
 ],
 "metadata": {
  "kernelspec": {
   "display_name": "Python 3",
   "language": "python",
   "name": "python3"
  },
  "language_info": {
   "codemirror_mode": {
    "name": "ipython",
    "version": 2
   },
   "file_extension": ".py",
   "mimetype": "text/x-python",
   "name": "python",
   "nbconvert_exporter": "python",
   "pygments_lexer": "ipython2",
   "version": "2.7.6"
  }
 },
 "nbformat": 4,
 "nbformat_minor": 0
}