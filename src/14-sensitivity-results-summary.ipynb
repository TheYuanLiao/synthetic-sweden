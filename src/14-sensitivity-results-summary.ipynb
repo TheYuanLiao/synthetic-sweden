{
 "cells": [
  {
   "cell_type": "markdown",
   "source": [
    "# Summary of sensitivity results test"
   ],
   "metadata": {
    "collapsed": false,
    "pycharm": {
     "name": "#%% md\n"
    }
   }
  },
  {
   "cell_type": "code",
   "execution_count": 1,
   "outputs": [
    {
     "name": "stdout",
     "output_type": "stream",
     "text": [
      "D:\\synthetic-sweden\n"
     ]
    }
   ],
   "source": [
    "%load_ext autoreload\n",
    "%autoreload 2\n",
    "%cd D:\\synthetic-sweden\n",
    "%matplotlib inline"
   ],
   "metadata": {
    "collapsed": false,
    "pycharm": {
     "name": "#%%\n"
    }
   }
  },
  {
   "cell_type": "code",
   "execution_count": 9,
   "outputs": [],
   "source": [
    "import pandas as pd\n",
    "from tqdm import tqdm\n",
    "pd.options.display.float_format = '{:,.2f}'.format\n",
    "scenario = 'scenario_vg_car'"
   ],
   "metadata": {
    "collapsed": false,
    "pycharm": {
     "name": "#%%\n"
    }
   }
  },
  {
   "cell_type": "markdown",
   "source": [
    "## 1. Individual statistics"
   ],
   "metadata": {
    "collapsed": false,
    "pycharm": {
     "name": "#%% md\n"
    }
   }
  },
  {
   "cell_type": "code",
   "execution_count": 60,
   "outputs": [
    {
     "name": "stderr",
     "output_type": "stream",
     "text": [
      "100%|██████████| 20/20 [00:00<?, ?it/s]\n"
     ]
    },
    {
     "data": {
      "text/plain": "   paraset  charging_type  home_charger  failure_rate  charging_share  \\\n0        0              1             0          0.94            3.60   \n1        0              1             1          1.17            0.35   \n2        0              2             0          0.67            7.29   \n3        0              2             1          0.37            1.91   \n4        0              3             0          0.57           18.23   \n\n   num_charged  soc_end  charging_time_inter  charging_time_fast  \\\n0    10,436.00     0.50               103.79                1.16   \n1     1,001.00     0.88               102.13                0.70   \n2    21,133.00     0.53               106.63                0.76   \n3     5,532.00     0.88                90.87                0.34   \n4    52,868.00     0.91                50.60                0.18   \n\n   charging_time_ratio  energy_fast  energy_inter  energy_total  type1  type2  \\\n0                 0.29         2.31         46.98    514,437.29   0.20   0.20   \n1                 0.36         1.40         47.01     48,456.87   0.20   0.20   \n2                 0.31         1.51         45.37    990,711.48   0.20   0.20   \n3                 0.31         0.68         33.50    189,096.67   0.20   0.20   \n4                 0.12         0.36         15.62    845,013.55   0.20   0.20   \n\n   type3  power_fast  min_parking_time  power_intermediate Charging_type  \n0   0.90         150                 5                  22       1 (0.2)  \n1   0.90         150                 5                  22       1 (0.2)  \n2   0.90         150                 5                  22       2 (0.2)  \n3   0.90         150                 5                  22       2 (0.2)  \n4   0.90         150                 5                  22       3 (0.9)  ",
      "text/html": "<div>\n<style scoped>\n    .dataframe tbody tr th:only-of-type {\n        vertical-align: middle;\n    }\n\n    .dataframe tbody tr th {\n        vertical-align: top;\n    }\n\n    .dataframe thead th {\n        text-align: right;\n    }\n</style>\n<table border=\"1\" class=\"dataframe\">\n  <thead>\n    <tr style=\"text-align: right;\">\n      <th></th>\n      <th>paraset</th>\n      <th>charging_type</th>\n      <th>home_charger</th>\n      <th>failure_rate</th>\n      <th>charging_share</th>\n      <th>num_charged</th>\n      <th>soc_end</th>\n      <th>charging_time_inter</th>\n      <th>charging_time_fast</th>\n      <th>charging_time_ratio</th>\n      <th>energy_fast</th>\n      <th>energy_inter</th>\n      <th>energy_total</th>\n      <th>type1</th>\n      <th>type2</th>\n      <th>type3</th>\n      <th>power_fast</th>\n      <th>min_parking_time</th>\n      <th>power_intermediate</th>\n      <th>Charging_type</th>\n    </tr>\n  </thead>\n  <tbody>\n    <tr>\n      <th>0</th>\n      <td>0</td>\n      <td>1</td>\n      <td>0</td>\n      <td>0.94</td>\n      <td>3.60</td>\n      <td>10,436.00</td>\n      <td>0.50</td>\n      <td>103.79</td>\n      <td>1.16</td>\n      <td>0.29</td>\n      <td>2.31</td>\n      <td>46.98</td>\n      <td>514,437.29</td>\n      <td>0.20</td>\n      <td>0.20</td>\n      <td>0.90</td>\n      <td>150</td>\n      <td>5</td>\n      <td>22</td>\n      <td>1 (0.2)</td>\n    </tr>\n    <tr>\n      <th>1</th>\n      <td>0</td>\n      <td>1</td>\n      <td>1</td>\n      <td>1.17</td>\n      <td>0.35</td>\n      <td>1,001.00</td>\n      <td>0.88</td>\n      <td>102.13</td>\n      <td>0.70</td>\n      <td>0.36</td>\n      <td>1.40</td>\n      <td>47.01</td>\n      <td>48,456.87</td>\n      <td>0.20</td>\n      <td>0.20</td>\n      <td>0.90</td>\n      <td>150</td>\n      <td>5</td>\n      <td>22</td>\n      <td>1 (0.2)</td>\n    </tr>\n    <tr>\n      <th>2</th>\n      <td>0</td>\n      <td>2</td>\n      <td>0</td>\n      <td>0.67</td>\n      <td>7.29</td>\n      <td>21,133.00</td>\n      <td>0.53</td>\n      <td>106.63</td>\n      <td>0.76</td>\n      <td>0.31</td>\n      <td>1.51</td>\n      <td>45.37</td>\n      <td>990,711.48</td>\n      <td>0.20</td>\n      <td>0.20</td>\n      <td>0.90</td>\n      <td>150</td>\n      <td>5</td>\n      <td>22</td>\n      <td>2 (0.2)</td>\n    </tr>\n    <tr>\n      <th>3</th>\n      <td>0</td>\n      <td>2</td>\n      <td>1</td>\n      <td>0.37</td>\n      <td>1.91</td>\n      <td>5,532.00</td>\n      <td>0.88</td>\n      <td>90.87</td>\n      <td>0.34</td>\n      <td>0.31</td>\n      <td>0.68</td>\n      <td>33.50</td>\n      <td>189,096.67</td>\n      <td>0.20</td>\n      <td>0.20</td>\n      <td>0.90</td>\n      <td>150</td>\n      <td>5</td>\n      <td>22</td>\n      <td>2 (0.2)</td>\n    </tr>\n    <tr>\n      <th>4</th>\n      <td>0</td>\n      <td>3</td>\n      <td>0</td>\n      <td>0.57</td>\n      <td>18.23</td>\n      <td>52,868.00</td>\n      <td>0.91</td>\n      <td>50.60</td>\n      <td>0.18</td>\n      <td>0.12</td>\n      <td>0.36</td>\n      <td>15.62</td>\n      <td>845,013.55</td>\n      <td>0.20</td>\n      <td>0.20</td>\n      <td>0.90</td>\n      <td>150</td>\n      <td>5</td>\n      <td>22</td>\n      <td>3 (0.9)</td>\n    </tr>\n  </tbody>\n</table>\n</div>"
     },
     "execution_count": 60,
     "metadata": {},
     "output_type": "execute_result"
    }
   ],
   "source": [
    "df_indi = pd.read_csv(f'results/sensitivity/{scenario}_stats_indi_agg_5days.csv')\n",
    "tqdm.pandas()\n",
    "df_indi.loc[:, 'Charging_type'] = df_indi.progress_apply(lambda row: str(int(row['charging_type'])) + ' (' + str(row['type1']) + ')' if row['charging_type'] in (1, 2) else str(int(row['charging_type'])) + ' (0.9)', axis=1)\n",
    "df_indi.head()"
   ],
   "metadata": {
    "collapsed": false,
    "pycharm": {
     "name": "#%%\n"
    }
   }
  },
  {
   "cell_type": "markdown",
   "source": [
    "### 1.1 Share of failed agents"
   ],
   "metadata": {
    "collapsed": false,
    "pycharm": {
     "name": "#%% md\n"
    }
   }
  },
  {
   "cell_type": "code",
   "execution_count": 61,
   "outputs": [
    {
     "data": {
      "text/plain": "home_charger                0    1\nCharging_type power_fast          \n1 (0.2)       50         0.96 1.17\n              150        0.94 1.17\n1 (0.3)       50         0.80 0.99\n              150        0.79 0.98\n2 (0.2)       50         0.68 0.37\n              150        0.67 0.37\n2 (0.3)       50         0.60 0.37\n              150        0.60 0.37\n3 (0.9)       50         0.57 0.37\n              150        0.57 0.37",
      "text/html": "<div>\n<style scoped>\n    .dataframe tbody tr th:only-of-type {\n        vertical-align: middle;\n    }\n\n    .dataframe tbody tr th {\n        vertical-align: top;\n    }\n\n    .dataframe thead th {\n        text-align: right;\n    }\n</style>\n<table border=\"1\" class=\"dataframe\">\n  <thead>\n    <tr style=\"text-align: right;\">\n      <th></th>\n      <th>home_charger</th>\n      <th>0</th>\n      <th>1</th>\n    </tr>\n    <tr>\n      <th>Charging_type</th>\n      <th>power_fast</th>\n      <th></th>\n      <th></th>\n    </tr>\n  </thead>\n  <tbody>\n    <tr>\n      <th rowspan=\"2\" valign=\"top\">1 (0.2)</th>\n      <th>50</th>\n      <td>0.96</td>\n      <td>1.17</td>\n    </tr>\n    <tr>\n      <th>150</th>\n      <td>0.94</td>\n      <td>1.17</td>\n    </tr>\n    <tr>\n      <th rowspan=\"2\" valign=\"top\">1 (0.3)</th>\n      <th>50</th>\n      <td>0.80</td>\n      <td>0.99</td>\n    </tr>\n    <tr>\n      <th>150</th>\n      <td>0.79</td>\n      <td>0.98</td>\n    </tr>\n    <tr>\n      <th rowspan=\"2\" valign=\"top\">2 (0.2)</th>\n      <th>50</th>\n      <td>0.68</td>\n      <td>0.37</td>\n    </tr>\n    <tr>\n      <th>150</th>\n      <td>0.67</td>\n      <td>0.37</td>\n    </tr>\n    <tr>\n      <th rowspan=\"2\" valign=\"top\">2 (0.3)</th>\n      <th>50</th>\n      <td>0.60</td>\n      <td>0.37</td>\n    </tr>\n    <tr>\n      <th>150</th>\n      <td>0.60</td>\n      <td>0.37</td>\n    </tr>\n    <tr>\n      <th rowspan=\"2\" valign=\"top\">3 (0.9)</th>\n      <th>50</th>\n      <td>0.57</td>\n      <td>0.37</td>\n    </tr>\n    <tr>\n      <th>150</th>\n      <td>0.57</td>\n      <td>0.37</td>\n    </tr>\n  </tbody>\n</table>\n</div>"
     },
     "execution_count": 61,
     "metadata": {},
     "output_type": "execute_result"
    }
   ],
   "source": [
    "table = pd.pivot_table(df_indi, values='failure_rate', index=['Charging_type', 'power_fast'],\n",
    "                    columns=['home_charger'])\n",
    "table.to_clipboard()\n",
    "table"
   ],
   "metadata": {
    "collapsed": false,
    "pycharm": {
     "name": "#%%\n"
    }
   }
  },
  {
   "cell_type": "markdown",
   "source": [
    "### 1.2 Share of agents who accessed daytime charging"
   ],
   "metadata": {
    "collapsed": false,
    "pycharm": {
     "name": "#%% md\n"
    }
   }
  },
  {
   "cell_type": "code",
   "execution_count": 62,
   "outputs": [
    {
     "data": {
      "text/plain": "home_charger                 0     1\nCharging_type power_fast            \n1 (0.2)       50          3.59  0.35\n              150         3.60  0.35\n1 (0.3)       50          6.70  0.63\n              150         6.66  0.63\n2 (0.2)       50          7.36  1.91\n              150         7.29  1.91\n2 (0.3)       50          8.17  2.53\n              150         8.05  2.53\n3 (0.9)       50         18.21 22.44\n              150        18.23 22.44",
      "text/html": "<div>\n<style scoped>\n    .dataframe tbody tr th:only-of-type {\n        vertical-align: middle;\n    }\n\n    .dataframe tbody tr th {\n        vertical-align: top;\n    }\n\n    .dataframe thead th {\n        text-align: right;\n    }\n</style>\n<table border=\"1\" class=\"dataframe\">\n  <thead>\n    <tr style=\"text-align: right;\">\n      <th></th>\n      <th>home_charger</th>\n      <th>0</th>\n      <th>1</th>\n    </tr>\n    <tr>\n      <th>Charging_type</th>\n      <th>power_fast</th>\n      <th></th>\n      <th></th>\n    </tr>\n  </thead>\n  <tbody>\n    <tr>\n      <th rowspan=\"2\" valign=\"top\">1 (0.2)</th>\n      <th>50</th>\n      <td>3.59</td>\n      <td>0.35</td>\n    </tr>\n    <tr>\n      <th>150</th>\n      <td>3.60</td>\n      <td>0.35</td>\n    </tr>\n    <tr>\n      <th rowspan=\"2\" valign=\"top\">1 (0.3)</th>\n      <th>50</th>\n      <td>6.70</td>\n      <td>0.63</td>\n    </tr>\n    <tr>\n      <th>150</th>\n      <td>6.66</td>\n      <td>0.63</td>\n    </tr>\n    <tr>\n      <th rowspan=\"2\" valign=\"top\">2 (0.2)</th>\n      <th>50</th>\n      <td>7.36</td>\n      <td>1.91</td>\n    </tr>\n    <tr>\n      <th>150</th>\n      <td>7.29</td>\n      <td>1.91</td>\n    </tr>\n    <tr>\n      <th rowspan=\"2\" valign=\"top\">2 (0.3)</th>\n      <th>50</th>\n      <td>8.17</td>\n      <td>2.53</td>\n    </tr>\n    <tr>\n      <th>150</th>\n      <td>8.05</td>\n      <td>2.53</td>\n    </tr>\n    <tr>\n      <th rowspan=\"2\" valign=\"top\">3 (0.9)</th>\n      <th>50</th>\n      <td>18.21</td>\n      <td>22.44</td>\n    </tr>\n    <tr>\n      <th>150</th>\n      <td>18.23</td>\n      <td>22.44</td>\n    </tr>\n  </tbody>\n</table>\n</div>"
     },
     "execution_count": 62,
     "metadata": {},
     "output_type": "execute_result"
    }
   ],
   "source": [
    "table = pd.pivot_table(df_indi, values='charging_share', index=['Charging_type', 'power_fast'],\n",
    "                    columns=['home_charger'])\n",
    "table.to_clipboard()\n",
    "table"
   ],
   "metadata": {
    "collapsed": false,
    "pycharm": {
     "name": "#%%\n"
    }
   }
  },
  {
   "cell_type": "markdown",
   "source": [
    "### 1.3 Charging time and ratio, energy / person and total energy"
   ],
   "metadata": {
    "collapsed": false,
    "pycharm": {
     "name": "#%% md\n"
    }
   }
  },
  {
   "cell_type": "code",
   "execution_count": 44,
   "outputs": [
    {
     "data": {
      "text/plain": "     person car  home_charger  residential_charger  soc_end Charging_type  \\\n0  10000013   B             1                    0     0.78       1 (0.2)   \n1  10000013   B             1                    0     0.78       2 (0.2)   \n2  10000013   B             1                    0     0.89       3 (0.9)   \n3  10000025   C             1                    0     0.77       1 (0.2)   \n4  10000025   C             1                    0     0.77       2 (0.2)   \n\n   power_intermediate  power_fast  charging_time_fast  charging_time_inter  \\\n0                  22          50                0.00                 0.00   \n1                  22          50                0.00                 0.00   \n2                  22          50                0.00                15.53   \n3                  22          50                0.00                 0.00   \n4                  22          50                0.00                 0.00   \n\n   charging_time_ratio  charging_energy_fast  charging_energy_inter  \\\n0                 0.00                  0.00                   0.00   \n1                 0.00                  0.00                   0.00   \n2                 0.03                  0.00                   4.27   \n3                 0.00                  0.00                   0.00   \n4                 0.00                  0.00                   0.00   \n\n   charging_energy_overnight  \n0                       8.72  \n1                       8.72  \n2                       4.45  \n3                      13.62  \n4                      13.62  ",
      "text/html": "<div>\n<style scoped>\n    .dataframe tbody tr th:only-of-type {\n        vertical-align: middle;\n    }\n\n    .dataframe tbody tr th {\n        vertical-align: top;\n    }\n\n    .dataframe thead th {\n        text-align: right;\n    }\n</style>\n<table border=\"1\" class=\"dataframe\">\n  <thead>\n    <tr style=\"text-align: right;\">\n      <th></th>\n      <th>person</th>\n      <th>car</th>\n      <th>home_charger</th>\n      <th>residential_charger</th>\n      <th>soc_end</th>\n      <th>Charging_type</th>\n      <th>power_intermediate</th>\n      <th>power_fast</th>\n      <th>charging_time_fast</th>\n      <th>charging_time_inter</th>\n      <th>charging_time_ratio</th>\n      <th>charging_energy_fast</th>\n      <th>charging_energy_inter</th>\n      <th>charging_energy_overnight</th>\n    </tr>\n  </thead>\n  <tbody>\n    <tr>\n      <th>0</th>\n      <td>10000013</td>\n      <td>B</td>\n      <td>1</td>\n      <td>0</td>\n      <td>0.78</td>\n      <td>1 (0.2)</td>\n      <td>22</td>\n      <td>50</td>\n      <td>0.00</td>\n      <td>0.00</td>\n      <td>0.00</td>\n      <td>0.00</td>\n      <td>0.00</td>\n      <td>8.72</td>\n    </tr>\n    <tr>\n      <th>1</th>\n      <td>10000013</td>\n      <td>B</td>\n      <td>1</td>\n      <td>0</td>\n      <td>0.78</td>\n      <td>2 (0.2)</td>\n      <td>22</td>\n      <td>50</td>\n      <td>0.00</td>\n      <td>0.00</td>\n      <td>0.00</td>\n      <td>0.00</td>\n      <td>0.00</td>\n      <td>8.72</td>\n    </tr>\n    <tr>\n      <th>2</th>\n      <td>10000013</td>\n      <td>B</td>\n      <td>1</td>\n      <td>0</td>\n      <td>0.89</td>\n      <td>3 (0.9)</td>\n      <td>22</td>\n      <td>50</td>\n      <td>0.00</td>\n      <td>15.53</td>\n      <td>0.03</td>\n      <td>0.00</td>\n      <td>4.27</td>\n      <td>4.45</td>\n    </tr>\n    <tr>\n      <th>3</th>\n      <td>10000025</td>\n      <td>C</td>\n      <td>1</td>\n      <td>0</td>\n      <td>0.77</td>\n      <td>1 (0.2)</td>\n      <td>22</td>\n      <td>50</td>\n      <td>0.00</td>\n      <td>0.00</td>\n      <td>0.00</td>\n      <td>0.00</td>\n      <td>0.00</td>\n      <td>13.62</td>\n    </tr>\n    <tr>\n      <th>4</th>\n      <td>10000025</td>\n      <td>C</td>\n      <td>1</td>\n      <td>0</td>\n      <td>0.77</td>\n      <td>2 (0.2)</td>\n      <td>22</td>\n      <td>50</td>\n      <td>0.00</td>\n      <td>0.00</td>\n      <td>0.00</td>\n      <td>0.00</td>\n      <td>0.00</td>\n      <td>13.62</td>\n    </tr>\n  </tbody>\n</table>\n</div>"
     },
     "execution_count": 44,
     "metadata": {},
     "output_type": "execute_result"
    }
   ],
   "source": [
    "df_indi_energy = pd.read_csv(f'results/sensitivity/{scenario}_stats_indi_5days.csv')\n",
    "df_indi_energy.head()"
   ],
   "metadata": {
    "collapsed": false,
    "pycharm": {
     "name": "#%%\n"
    }
   }
  },
  {
   "cell_type": "code",
   "execution_count": 49,
   "outputs": [],
   "source": [
    "def data_summary(data):\n",
    "    data2compute_inter = data.loc[data['charging_time_inter']>0, :]\n",
    "    data2compute_fast = data.loc[data['charging_time_fast']>0, :]\n",
    "    sum_dict = dict(\n",
    "        charging_time_inter = data2compute_inter['charging_time_inter'].median(),\n",
    "        charging_time_ratio_inter = data2compute_inter['charging_time_ratio'].median()*100,\n",
    "        charging_time_fast = data2compute_fast['charging_time_fast'].median(),\n",
    "        charging_time_ratio_fast = data2compute_fast['charging_time_ratio'].median()*100,\n",
    "        energy_daytime=(data['charging_energy_fast'].sum() + data['charging_energy_inter'].sum())/10**3,\n",
    "        energy_overnight=data['charging_energy_overnight'].sum()/10**3\n",
    "    )\n",
    "    return pd.Series(sum_dict)"
   ],
   "metadata": {
    "collapsed": false,
    "pycharm": {
     "name": "#%%\n"
    }
   }
  },
  {
   "cell_type": "code",
   "execution_count": 65,
   "outputs": [
    {
     "data": {
      "text/plain": "                         charging_time_fast       charging_time_inter         \\\nhome_charger                              0     1                   0      1   \nCharging_type power_fast                                                       \n1 (0.2)       50                      18.97 17.50              115.80 104.85   \n              150                     15.60 14.45              115.81 104.85   \n1 (0.3)       50                      18.87 20.09              108.07 101.34   \n              150                     15.28 15.22              108.15 101.33   \n2 (0.2)       50                      17.85 12.47              108.73  85.15   \n              150                     13.02  7.66              108.85  85.09   \n2 (0.3)       50                      16.89 11.13              102.21  79.90   \n              150                     12.40  6.66              101.93  79.85   \n3 (0.9)       50                       5.12  5.27               41.30  42.32   \n              150                      1.74  1.89               41.31  42.32   \n\n                         charging_time_ratio_fast        \\\nhome_charger                                    0     1   \nCharging_type power_fast                                  \n1 (0.2)       50                             7.20 11.48   \n              150                            6.27  7.29   \n1 (0.3)       50                             9.92 10.05   \n              150                            8.09  7.66   \n2 (0.2)       50                            21.07 34.20   \n              150                           15.77 29.36   \n2 (0.3)       50                            22.37 34.21   \n              150                           15.89 27.76   \n3 (0.9)       50                            23.69 14.09   \n              150                            9.98 11.29   \n\n                         charging_time_ratio_inter       energy_daytime  \\\nhome_charger                                     0     1              0   \nCharging_type power_fast                                                  \n1 (0.2)       50                             30.08 37.04         511.08   \n              150                            30.18 37.04         514.44   \n1 (0.3)       50                             29.91 33.31         901.37   \n              150                            29.96 33.30         905.69   \n2 (0.2)       50                             30.90 31.45         996.34   \n              150                            30.91 31.29         990.71   \n2 (0.3)       50                             29.39 28.72         999.31   \n              150                            29.45 28.60         991.36   \n3 (0.9)       50                             12.43 12.16         842.74   \n              150                            12.43 12.15         845.01   \n\n                                energy_overnight           \nhome_charger                  1                0        1  \nCharging_type power_fast                                   \n1 (0.2)       50          48.24           457.78 2,511.87  \n              150         48.46           459.37 2,511.66  \n1 (0.3)       50          82.20           335.36 2,477.91  \n              150         82.80           331.58 2,477.32  \n2 (0.2)       50         188.60           164.97 2,371.52  \n              150        189.10           162.97 2,371.02  \n2 (0.3)       50         230.79           160.32 2,329.33  \n              150        231.31           158.77 2,328.81  \n3 (0.9)       50         985.24           158.39 1,574.87  \n              150        986.09           155.87 1,574.02  ",
      "text/html": "<div>\n<style scoped>\n    .dataframe tbody tr th:only-of-type {\n        vertical-align: middle;\n    }\n\n    .dataframe tbody tr th {\n        vertical-align: top;\n    }\n\n    .dataframe thead tr th {\n        text-align: left;\n    }\n\n    .dataframe thead tr:last-of-type th {\n        text-align: right;\n    }\n</style>\n<table border=\"1\" class=\"dataframe\">\n  <thead>\n    <tr>\n      <th></th>\n      <th></th>\n      <th colspan=\"2\" halign=\"left\">charging_time_fast</th>\n      <th colspan=\"2\" halign=\"left\">charging_time_inter</th>\n      <th colspan=\"2\" halign=\"left\">charging_time_ratio_fast</th>\n      <th colspan=\"2\" halign=\"left\">charging_time_ratio_inter</th>\n      <th colspan=\"2\" halign=\"left\">energy_daytime</th>\n      <th colspan=\"2\" halign=\"left\">energy_overnight</th>\n    </tr>\n    <tr>\n      <th></th>\n      <th>home_charger</th>\n      <th>0</th>\n      <th>1</th>\n      <th>0</th>\n      <th>1</th>\n      <th>0</th>\n      <th>1</th>\n      <th>0</th>\n      <th>1</th>\n      <th>0</th>\n      <th>1</th>\n      <th>0</th>\n      <th>1</th>\n    </tr>\n    <tr>\n      <th>Charging_type</th>\n      <th>power_fast</th>\n      <th></th>\n      <th></th>\n      <th></th>\n      <th></th>\n      <th></th>\n      <th></th>\n      <th></th>\n      <th></th>\n      <th></th>\n      <th></th>\n      <th></th>\n      <th></th>\n    </tr>\n  </thead>\n  <tbody>\n    <tr>\n      <th rowspan=\"2\" valign=\"top\">1 (0.2)</th>\n      <th>50</th>\n      <td>18.97</td>\n      <td>17.50</td>\n      <td>115.80</td>\n      <td>104.85</td>\n      <td>7.20</td>\n      <td>11.48</td>\n      <td>30.08</td>\n      <td>37.04</td>\n      <td>511.08</td>\n      <td>48.24</td>\n      <td>457.78</td>\n      <td>2,511.87</td>\n    </tr>\n    <tr>\n      <th>150</th>\n      <td>15.60</td>\n      <td>14.45</td>\n      <td>115.81</td>\n      <td>104.85</td>\n      <td>6.27</td>\n      <td>7.29</td>\n      <td>30.18</td>\n      <td>37.04</td>\n      <td>514.44</td>\n      <td>48.46</td>\n      <td>459.37</td>\n      <td>2,511.66</td>\n    </tr>\n    <tr>\n      <th rowspan=\"2\" valign=\"top\">1 (0.3)</th>\n      <th>50</th>\n      <td>18.87</td>\n      <td>20.09</td>\n      <td>108.07</td>\n      <td>101.34</td>\n      <td>9.92</td>\n      <td>10.05</td>\n      <td>29.91</td>\n      <td>33.31</td>\n      <td>901.37</td>\n      <td>82.20</td>\n      <td>335.36</td>\n      <td>2,477.91</td>\n    </tr>\n    <tr>\n      <th>150</th>\n      <td>15.28</td>\n      <td>15.22</td>\n      <td>108.15</td>\n      <td>101.33</td>\n      <td>8.09</td>\n      <td>7.66</td>\n      <td>29.96</td>\n      <td>33.30</td>\n      <td>905.69</td>\n      <td>82.80</td>\n      <td>331.58</td>\n      <td>2,477.32</td>\n    </tr>\n    <tr>\n      <th rowspan=\"2\" valign=\"top\">2 (0.2)</th>\n      <th>50</th>\n      <td>17.85</td>\n      <td>12.47</td>\n      <td>108.73</td>\n      <td>85.15</td>\n      <td>21.07</td>\n      <td>34.20</td>\n      <td>30.90</td>\n      <td>31.45</td>\n      <td>996.34</td>\n      <td>188.60</td>\n      <td>164.97</td>\n      <td>2,371.52</td>\n    </tr>\n    <tr>\n      <th>150</th>\n      <td>13.02</td>\n      <td>7.66</td>\n      <td>108.85</td>\n      <td>85.09</td>\n      <td>15.77</td>\n      <td>29.36</td>\n      <td>30.91</td>\n      <td>31.29</td>\n      <td>990.71</td>\n      <td>189.10</td>\n      <td>162.97</td>\n      <td>2,371.02</td>\n    </tr>\n    <tr>\n      <th rowspan=\"2\" valign=\"top\">2 (0.3)</th>\n      <th>50</th>\n      <td>16.89</td>\n      <td>11.13</td>\n      <td>102.21</td>\n      <td>79.90</td>\n      <td>22.37</td>\n      <td>34.21</td>\n      <td>29.39</td>\n      <td>28.72</td>\n      <td>999.31</td>\n      <td>230.79</td>\n      <td>160.32</td>\n      <td>2,329.33</td>\n    </tr>\n    <tr>\n      <th>150</th>\n      <td>12.40</td>\n      <td>6.66</td>\n      <td>101.93</td>\n      <td>79.85</td>\n      <td>15.89</td>\n      <td>27.76</td>\n      <td>29.45</td>\n      <td>28.60</td>\n      <td>991.36</td>\n      <td>231.31</td>\n      <td>158.77</td>\n      <td>2,328.81</td>\n    </tr>\n    <tr>\n      <th rowspan=\"2\" valign=\"top\">3 (0.9)</th>\n      <th>50</th>\n      <td>5.12</td>\n      <td>5.27</td>\n      <td>41.30</td>\n      <td>42.32</td>\n      <td>23.69</td>\n      <td>14.09</td>\n      <td>12.43</td>\n      <td>12.16</td>\n      <td>842.74</td>\n      <td>985.24</td>\n      <td>158.39</td>\n      <td>1,574.87</td>\n    </tr>\n    <tr>\n      <th>150</th>\n      <td>1.74</td>\n      <td>1.89</td>\n      <td>41.31</td>\n      <td>42.32</td>\n      <td>9.98</td>\n      <td>11.29</td>\n      <td>12.43</td>\n      <td>12.15</td>\n      <td>845.01</td>\n      <td>986.09</td>\n      <td>155.87</td>\n      <td>1,574.02</td>\n    </tr>\n  </tbody>\n</table>\n</div>"
     },
     "execution_count": 65,
     "metadata": {},
     "output_type": "execute_result"
    }
   ],
   "source": [
    "df_indi_e = df_indi_energy.groupby(['Charging_type', 'power_fast', 'home_charger']).apply(data_summary).reset_index() # .to_clipboard()\n",
    "table = pd.pivot_table(df_indi_e, values=['charging_time_inter', 'charging_time_ratio_inter', 'charging_time_fast', 'charging_time_ratio_fast',\n",
    "                                          'energy_daytime', 'energy_overnight'], index=['Charging_type', 'power_fast'],\n",
    "                    columns=['home_charger'])\n",
    "table.to_clipboard()\n",
    "table"
   ],
   "metadata": {
    "collapsed": false,
    "pycharm": {
     "name": "#%%\n"
    }
   }
  },
  {
   "cell_type": "markdown",
   "source": [
    "## 2. Spatiotemporal statistics"
   ],
   "metadata": {
    "collapsed": false,
    "pycharm": {
     "name": "#%% md\n"
    }
   }
  },
  {
   "cell_type": "markdown",
   "source": [
    "### 2.1 Charger in DeSO zones and aggregate statistics"
   ],
   "metadata": {
    "collapsed": false,
    "pycharm": {
     "name": "#%% md\n"
    }
   }
  },
  {
   "cell_type": "code",
   "execution_count": 66,
   "outputs": [
    {
     "data": {
      "text/plain": "        deso Charging_type Purpose  power_fast  charger  number\n0  0114C1050       1 (0.2)   Other          50       22    1.00\n1  0114C1050       1 (0.2)   Other         150       22    1.00\n2  0114C1050       1 (0.3)   Other          50       22    1.00\n3  0114C1050       1 (0.3)   Other         150       22    1.00\n4  0114C1050       2 (0.2)   Other          50       22    1.00",
      "text/html": "<div>\n<style scoped>\n    .dataframe tbody tr th:only-of-type {\n        vertical-align: middle;\n    }\n\n    .dataframe tbody tr th {\n        vertical-align: top;\n    }\n\n    .dataframe thead th {\n        text-align: right;\n    }\n</style>\n<table border=\"1\" class=\"dataframe\">\n  <thead>\n    <tr style=\"text-align: right;\">\n      <th></th>\n      <th>deso</th>\n      <th>Charging_type</th>\n      <th>Purpose</th>\n      <th>power_fast</th>\n      <th>charger</th>\n      <th>number</th>\n    </tr>\n  </thead>\n  <tbody>\n    <tr>\n      <th>0</th>\n      <td>0114C1050</td>\n      <td>1 (0.2)</td>\n      <td>Other</td>\n      <td>50</td>\n      <td>22</td>\n      <td>1.00</td>\n    </tr>\n    <tr>\n      <th>1</th>\n      <td>0114C1050</td>\n      <td>1 (0.2)</td>\n      <td>Other</td>\n      <td>150</td>\n      <td>22</td>\n      <td>1.00</td>\n    </tr>\n    <tr>\n      <th>2</th>\n      <td>0114C1050</td>\n      <td>1 (0.3)</td>\n      <td>Other</td>\n      <td>50</td>\n      <td>22</td>\n      <td>1.00</td>\n    </tr>\n    <tr>\n      <th>3</th>\n      <td>0114C1050</td>\n      <td>1 (0.3)</td>\n      <td>Other</td>\n      <td>150</td>\n      <td>22</td>\n      <td>1.00</td>\n    </tr>\n    <tr>\n      <th>4</th>\n      <td>0114C1050</td>\n      <td>2 (0.2)</td>\n      <td>Other</td>\n      <td>50</td>\n      <td>22</td>\n      <td>1.00</td>\n    </tr>\n  </tbody>\n</table>\n</div>"
     },
     "execution_count": 66,
     "metadata": {},
     "output_type": "execute_result"
    }
   ],
   "source": [
    "df_charger = pd.read_csv(f'results/sensitivity/{scenario}_stats_charger_5days.csv')\n",
    "df_charger.head()"
   ],
   "metadata": {
    "collapsed": false,
    "pycharm": {
     "name": "#%%\n"
    }
   }
  },
  {
   "cell_type": "code",
   "execution_count": 67,
   "outputs": [
    {
     "data": {
      "text/plain": "charger                                22       50       150\nCharging_type power_fast Purpose                            \n1 (0.2)       50         Other    3,471.00   509.00      NaN\n                         Work     1,895.00     8.00      NaN\n              150        Other    3,457.00      NaN   540.00\n                         Work     1,855.00      NaN     8.00\n1 (0.3)       50         Other    5,352.00   754.00      NaN\n                         Work     3,762.00    19.00      NaN\n              150        Other    5,335.00      NaN   739.00\n                         Work     3,757.00      NaN    14.00\n2 (0.2)       50         Other    8,092.00   787.00      NaN\n                         Work     4,596.00    30.00      NaN\n              150        Other    8,065.00      NaN   800.00\n                         Work     4,516.00      NaN    32.00\n2 (0.3)       50         Other    8,807.00   899.00      NaN\n                         Work     4,955.00    43.00      NaN\n              150        Other    8,825.00      NaN   842.00\n                         Work     4,842.00      NaN    37.00\n3 (0.9)       50         Other   14,542.00 1,250.00      NaN\n                         Work     9,475.00    70.00      NaN\n              150        Other   14,526.00      NaN 1,121.00\n                         Work     9,465.00      NaN    68.00",
      "text/html": "<div>\n<style scoped>\n    .dataframe tbody tr th:only-of-type {\n        vertical-align: middle;\n    }\n\n    .dataframe tbody tr th {\n        vertical-align: top;\n    }\n\n    .dataframe thead th {\n        text-align: right;\n    }\n</style>\n<table border=\"1\" class=\"dataframe\">\n  <thead>\n    <tr style=\"text-align: right;\">\n      <th></th>\n      <th></th>\n      <th>charger</th>\n      <th>22</th>\n      <th>50</th>\n      <th>150</th>\n    </tr>\n    <tr>\n      <th>Charging_type</th>\n      <th>power_fast</th>\n      <th>Purpose</th>\n      <th></th>\n      <th></th>\n      <th></th>\n    </tr>\n  </thead>\n  <tbody>\n    <tr>\n      <th rowspan=\"4\" valign=\"top\">1 (0.2)</th>\n      <th rowspan=\"2\" valign=\"top\">50</th>\n      <th>Other</th>\n      <td>3,471.00</td>\n      <td>509.00</td>\n      <td>NaN</td>\n    </tr>\n    <tr>\n      <th>Work</th>\n      <td>1,895.00</td>\n      <td>8.00</td>\n      <td>NaN</td>\n    </tr>\n    <tr>\n      <th rowspan=\"2\" valign=\"top\">150</th>\n      <th>Other</th>\n      <td>3,457.00</td>\n      <td>NaN</td>\n      <td>540.00</td>\n    </tr>\n    <tr>\n      <th>Work</th>\n      <td>1,855.00</td>\n      <td>NaN</td>\n      <td>8.00</td>\n    </tr>\n    <tr>\n      <th rowspan=\"4\" valign=\"top\">1 (0.3)</th>\n      <th rowspan=\"2\" valign=\"top\">50</th>\n      <th>Other</th>\n      <td>5,352.00</td>\n      <td>754.00</td>\n      <td>NaN</td>\n    </tr>\n    <tr>\n      <th>Work</th>\n      <td>3,762.00</td>\n      <td>19.00</td>\n      <td>NaN</td>\n    </tr>\n    <tr>\n      <th rowspan=\"2\" valign=\"top\">150</th>\n      <th>Other</th>\n      <td>5,335.00</td>\n      <td>NaN</td>\n      <td>739.00</td>\n    </tr>\n    <tr>\n      <th>Work</th>\n      <td>3,757.00</td>\n      <td>NaN</td>\n      <td>14.00</td>\n    </tr>\n    <tr>\n      <th rowspan=\"4\" valign=\"top\">2 (0.2)</th>\n      <th rowspan=\"2\" valign=\"top\">50</th>\n      <th>Other</th>\n      <td>8,092.00</td>\n      <td>787.00</td>\n      <td>NaN</td>\n    </tr>\n    <tr>\n      <th>Work</th>\n      <td>4,596.00</td>\n      <td>30.00</td>\n      <td>NaN</td>\n    </tr>\n    <tr>\n      <th rowspan=\"2\" valign=\"top\">150</th>\n      <th>Other</th>\n      <td>8,065.00</td>\n      <td>NaN</td>\n      <td>800.00</td>\n    </tr>\n    <tr>\n      <th>Work</th>\n      <td>4,516.00</td>\n      <td>NaN</td>\n      <td>32.00</td>\n    </tr>\n    <tr>\n      <th rowspan=\"4\" valign=\"top\">2 (0.3)</th>\n      <th rowspan=\"2\" valign=\"top\">50</th>\n      <th>Other</th>\n      <td>8,807.00</td>\n      <td>899.00</td>\n      <td>NaN</td>\n    </tr>\n    <tr>\n      <th>Work</th>\n      <td>4,955.00</td>\n      <td>43.00</td>\n      <td>NaN</td>\n    </tr>\n    <tr>\n      <th rowspan=\"2\" valign=\"top\">150</th>\n      <th>Other</th>\n      <td>8,825.00</td>\n      <td>NaN</td>\n      <td>842.00</td>\n    </tr>\n    <tr>\n      <th>Work</th>\n      <td>4,842.00</td>\n      <td>NaN</td>\n      <td>37.00</td>\n    </tr>\n    <tr>\n      <th rowspan=\"4\" valign=\"top\">3 (0.9)</th>\n      <th rowspan=\"2\" valign=\"top\">50</th>\n      <th>Other</th>\n      <td>14,542.00</td>\n      <td>1,250.00</td>\n      <td>NaN</td>\n    </tr>\n    <tr>\n      <th>Work</th>\n      <td>9,475.00</td>\n      <td>70.00</td>\n      <td>NaN</td>\n    </tr>\n    <tr>\n      <th rowspan=\"2\" valign=\"top\">150</th>\n      <th>Other</th>\n      <td>14,526.00</td>\n      <td>NaN</td>\n      <td>1,121.00</td>\n    </tr>\n    <tr>\n      <th>Work</th>\n      <td>9,465.00</td>\n      <td>NaN</td>\n      <td>68.00</td>\n    </tr>\n  </tbody>\n</table>\n</div>"
     },
     "execution_count": 67,
     "metadata": {},
     "output_type": "execute_result"
    }
   ],
   "source": [
    "df_agg = df_charger.groupby(['Charging_type', 'Purpose', 'power_fast', 'charger'])['number'].sum().reset_index().drop_duplicates(subset=['Charging_type', 'Purpose', 'power_fast', 'charger'])\n",
    "table = pd.pivot_table(df_agg, values='number', index=['Charging_type','power_fast', 'Purpose'], columns=['charger'])\n",
    "table.to_clipboard()\n",
    "table"
   ],
   "metadata": {
    "collapsed": false,
    "pycharm": {
     "name": "#%%\n"
    }
   }
  },
  {
   "cell_type": "markdown",
   "source": [
    "Overnight chargers"
   ],
   "metadata": {
    "collapsed": false,
    "pycharm": {
     "name": "#%% md\n"
    }
   }
  },
  {
   "cell_type": "code",
   "execution_count": 68,
   "outputs": [
    {
     "data": {
      "text/plain": "     person  charging_type  home_charger  finish_day  soc_init  soc_end  \\\n0  10000013              1             1           1      1.00     0.78   \n1  10000013              2             1           1      1.00     0.78   \n2  10000013              3             1           1      1.00     0.89   \n3  10000025              1             1           1      1.00     0.77   \n4  10000025              2             1           1      1.00     0.77   \n\n   total_distance  parking_dur  paraset  residential_charger  \n0           54.08       617.45        1                    0  \n1           54.08       617.45        1                    0  \n2           54.08       617.45        1                    0  \n3           71.93       600.02        1                    0  \n4           71.93       600.02        1                    0  ",
      "text/html": "<div>\n<style scoped>\n    .dataframe tbody tr th:only-of-type {\n        vertical-align: middle;\n    }\n\n    .dataframe tbody tr th {\n        vertical-align: top;\n    }\n\n    .dataframe thead th {\n        text-align: right;\n    }\n</style>\n<table border=\"1\" class=\"dataframe\">\n  <thead>\n    <tr style=\"text-align: right;\">\n      <th></th>\n      <th>person</th>\n      <th>charging_type</th>\n      <th>home_charger</th>\n      <th>finish_day</th>\n      <th>soc_init</th>\n      <th>soc_end</th>\n      <th>total_distance</th>\n      <th>parking_dur</th>\n      <th>paraset</th>\n      <th>residential_charger</th>\n    </tr>\n  </thead>\n  <tbody>\n    <tr>\n      <th>0</th>\n      <td>10000013</td>\n      <td>1</td>\n      <td>1</td>\n      <td>1</td>\n      <td>1.00</td>\n      <td>0.78</td>\n      <td>54.08</td>\n      <td>617.45</td>\n      <td>1</td>\n      <td>0</td>\n    </tr>\n    <tr>\n      <th>1</th>\n      <td>10000013</td>\n      <td>2</td>\n      <td>1</td>\n      <td>1</td>\n      <td>1.00</td>\n      <td>0.78</td>\n      <td>54.08</td>\n      <td>617.45</td>\n      <td>1</td>\n      <td>0</td>\n    </tr>\n    <tr>\n      <th>2</th>\n      <td>10000013</td>\n      <td>3</td>\n      <td>1</td>\n      <td>1</td>\n      <td>1.00</td>\n      <td>0.89</td>\n      <td>54.08</td>\n      <td>617.45</td>\n      <td>1</td>\n      <td>0</td>\n    </tr>\n    <tr>\n      <th>3</th>\n      <td>10000025</td>\n      <td>1</td>\n      <td>1</td>\n      <td>1</td>\n      <td>1.00</td>\n      <td>0.77</td>\n      <td>71.93</td>\n      <td>600.02</td>\n      <td>1</td>\n      <td>0</td>\n    </tr>\n    <tr>\n      <th>4</th>\n      <td>10000025</td>\n      <td>2</td>\n      <td>1</td>\n      <td>1</td>\n      <td>1.00</td>\n      <td>0.77</td>\n      <td>71.93</td>\n      <td>600.02</td>\n      <td>1</td>\n      <td>0</td>\n    </tr>\n  </tbody>\n</table>\n</div>"
     },
     "execution_count": 68,
     "metadata": {},
     "output_type": "execute_result"
    }
   ],
   "source": [
    "df_indi_raw = pd.read_csv(f'results/sensitivity/{scenario}_indi_raw_5days.csv')\n",
    "df_indi_raw.head()"
   ],
   "metadata": {
    "collapsed": false,
    "pycharm": {
     "name": "#%%\n"
    }
   }
  },
  {
   "cell_type": "code",
   "execution_count": 69,
   "outputs": [
    {
     "name": "stderr",
     "output_type": "stream",
     "text": [
      "C:\\ProgramData\\Anaconda3\\lib\\site-packages\\ipykernel_launcher.py:1: FutureWarning: Indexing with multiple keys (implicitly converted to a tuple of keys) will be deprecated, use a list instead.\n",
      "  \"\"\"Entry point for launching an IPython kernel.\n"
     ]
    },
    {
     "data": {
      "text/plain": "                       home_charger  residential_charger\ncharging_type paraset                                   \n1             0              175715                11348\n              1              175715                11290\n              2              175715                 4983\n              3              175715                 5051\n2             0              175715                 2060\n              1              175715                 2101\n              2              175715                 1969\n              3              175715                 2001\n3             0              175715                 1905\n              1              175715                 1962",
      "text/html": "<div>\n<style scoped>\n    .dataframe tbody tr th:only-of-type {\n        vertical-align: middle;\n    }\n\n    .dataframe tbody tr th {\n        vertical-align: top;\n    }\n\n    .dataframe thead th {\n        text-align: right;\n    }\n</style>\n<table border=\"1\" class=\"dataframe\">\n  <thead>\n    <tr style=\"text-align: right;\">\n      <th></th>\n      <th></th>\n      <th>home_charger</th>\n      <th>residential_charger</th>\n    </tr>\n    <tr>\n      <th>charging_type</th>\n      <th>paraset</th>\n      <th></th>\n      <th></th>\n    </tr>\n  </thead>\n  <tbody>\n    <tr>\n      <th rowspan=\"4\" valign=\"top\">1</th>\n      <th>0</th>\n      <td>175715</td>\n      <td>11348</td>\n    </tr>\n    <tr>\n      <th>1</th>\n      <td>175715</td>\n      <td>11290</td>\n    </tr>\n    <tr>\n      <th>2</th>\n      <td>175715</td>\n      <td>4983</td>\n    </tr>\n    <tr>\n      <th>3</th>\n      <td>175715</td>\n      <td>5051</td>\n    </tr>\n    <tr>\n      <th rowspan=\"4\" valign=\"top\">2</th>\n      <th>0</th>\n      <td>175715</td>\n      <td>2060</td>\n    </tr>\n    <tr>\n      <th>1</th>\n      <td>175715</td>\n      <td>2101</td>\n    </tr>\n    <tr>\n      <th>2</th>\n      <td>175715</td>\n      <td>1969</td>\n    </tr>\n    <tr>\n      <th>3</th>\n      <td>175715</td>\n      <td>2001</td>\n    </tr>\n    <tr>\n      <th rowspan=\"2\" valign=\"top\">3</th>\n      <th>0</th>\n      <td>175715</td>\n      <td>1905</td>\n    </tr>\n    <tr>\n      <th>1</th>\n      <td>175715</td>\n      <td>1962</td>\n    </tr>\n  </tbody>\n</table>\n</div>"
     },
     "execution_count": 69,
     "metadata": {},
     "output_type": "execute_result"
    }
   ],
   "source": [
    "df_indi_raw.groupby(['charging_type', 'paraset'])['home_charger', 'residential_charger'].sum()"
   ],
   "metadata": {
    "collapsed": false,
    "pycharm": {
     "name": "#%%\n"
    }
   }
  },
  {
   "cell_type": "markdown",
   "source": [
    "### 2.2 Temporal power demand\n",
    "Visualisation to present the results."
   ],
   "metadata": {
    "collapsed": false,
    "pycharm": {
     "name": "#%% md\n"
    }
   }
  },
  {
   "cell_type": "code",
   "execution_count": 38,
   "outputs": [
    {
     "data": {
      "text/plain": "    minute Charging_type Purpose  power_fast  charger  cars  power\n0     0.00       1 (0.2)   Other          50       22  0.00   0.00\n1     0.00       1 (0.2)   Other          50       50  0.00   0.00\n2     0.00       1 (0.2)   Other         150       22  0.00   0.00\n3     0.00       1 (0.2)   Other         150      150  0.00   0.00\n4     0.00       1 (0.2)    Work          50       22  0.00   0.00\n..     ...           ...     ...         ...      ...   ...    ...\n65    1.00       2 (0.3)   Other          50       50  0.00   0.00\n66    1.00       2 (0.3)   Other         150       22  0.00   0.00\n67    1.00       2 (0.3)   Other         150      150  0.00   0.00\n68    1.00       2 (0.3)    Work          50       22  0.00   0.00\n69    1.00       2 (0.3)    Work          50       50  0.00   0.00\n\n[70 rows x 7 columns]",
      "text/html": "<div>\n<style scoped>\n    .dataframe tbody tr th:only-of-type {\n        vertical-align: middle;\n    }\n\n    .dataframe tbody tr th {\n        vertical-align: top;\n    }\n\n    .dataframe thead th {\n        text-align: right;\n    }\n</style>\n<table border=\"1\" class=\"dataframe\">\n  <thead>\n    <tr style=\"text-align: right;\">\n      <th></th>\n      <th>minute</th>\n      <th>Charging_type</th>\n      <th>Purpose</th>\n      <th>power_fast</th>\n      <th>charger</th>\n      <th>cars</th>\n      <th>power</th>\n    </tr>\n  </thead>\n  <tbody>\n    <tr>\n      <th>0</th>\n      <td>0.00</td>\n      <td>1 (0.2)</td>\n      <td>Other</td>\n      <td>50</td>\n      <td>22</td>\n      <td>0.00</td>\n      <td>0.00</td>\n    </tr>\n    <tr>\n      <th>1</th>\n      <td>0.00</td>\n      <td>1 (0.2)</td>\n      <td>Other</td>\n      <td>50</td>\n      <td>50</td>\n      <td>0.00</td>\n      <td>0.00</td>\n    </tr>\n    <tr>\n      <th>2</th>\n      <td>0.00</td>\n      <td>1 (0.2)</td>\n      <td>Other</td>\n      <td>150</td>\n      <td>22</td>\n      <td>0.00</td>\n      <td>0.00</td>\n    </tr>\n    <tr>\n      <th>3</th>\n      <td>0.00</td>\n      <td>1 (0.2)</td>\n      <td>Other</td>\n      <td>150</td>\n      <td>150</td>\n      <td>0.00</td>\n      <td>0.00</td>\n    </tr>\n    <tr>\n      <th>4</th>\n      <td>0.00</td>\n      <td>1 (0.2)</td>\n      <td>Work</td>\n      <td>50</td>\n      <td>22</td>\n      <td>0.00</td>\n      <td>0.00</td>\n    </tr>\n    <tr>\n      <th>...</th>\n      <td>...</td>\n      <td>...</td>\n      <td>...</td>\n      <td>...</td>\n      <td>...</td>\n      <td>...</td>\n      <td>...</td>\n    </tr>\n    <tr>\n      <th>65</th>\n      <td>1.00</td>\n      <td>2 (0.3)</td>\n      <td>Other</td>\n      <td>50</td>\n      <td>50</td>\n      <td>0.00</td>\n      <td>0.00</td>\n    </tr>\n    <tr>\n      <th>66</th>\n      <td>1.00</td>\n      <td>2 (0.3)</td>\n      <td>Other</td>\n      <td>150</td>\n      <td>22</td>\n      <td>0.00</td>\n      <td>0.00</td>\n    </tr>\n    <tr>\n      <th>67</th>\n      <td>1.00</td>\n      <td>2 (0.3)</td>\n      <td>Other</td>\n      <td>150</td>\n      <td>150</td>\n      <td>0.00</td>\n      <td>0.00</td>\n    </tr>\n    <tr>\n      <th>68</th>\n      <td>1.00</td>\n      <td>2 (0.3)</td>\n      <td>Work</td>\n      <td>50</td>\n      <td>22</td>\n      <td>0.00</td>\n      <td>0.00</td>\n    </tr>\n    <tr>\n      <th>69</th>\n      <td>1.00</td>\n      <td>2 (0.3)</td>\n      <td>Work</td>\n      <td>50</td>\n      <td>50</td>\n      <td>0.00</td>\n      <td>0.00</td>\n    </tr>\n  </tbody>\n</table>\n<p>70 rows × 7 columns</p>\n</div>"
     },
     "execution_count": 38,
     "metadata": {},
     "output_type": "execute_result"
    }
   ],
   "source": [
    "df_power = pd.read_csv(f'results/sensitivity/{scenario}_stats_power_5days.csv')\n",
    "df_power.head(70)"
   ],
   "metadata": {
    "collapsed": false,
    "pycharm": {
     "name": "#%%\n"
    }
   }
  },
  {
   "cell_type": "markdown",
   "source": [
    "## 3. Compare the simulation results with existing charging infrastructure in Sweden"
   ],
   "metadata": {
    "collapsed": false,
    "pycharm": {
     "name": "#%% md\n"
    }
   }
  },
  {
   "cell_type": "code",
   "execution_count": 70,
   "outputs": [
    {
     "data": {
      "text/plain": "        deso Charging_type  power_fast  sim   gt\n0  0114C1050       1 (0.2)          50 3.33 0.00\n1  0114C1050       1 (0.2)         150 3.33 0.00\n2  0114C1050       1 (0.3)          50 3.33 0.00\n3  0114C1050       1 (0.3)         150 3.33 0.00\n4  0114C1050       2 (0.2)          50 3.33 0.00",
      "text/html": "<div>\n<style scoped>\n    .dataframe tbody tr th:only-of-type {\n        vertical-align: middle;\n    }\n\n    .dataframe tbody tr th {\n        vertical-align: top;\n    }\n\n    .dataframe thead th {\n        text-align: right;\n    }\n</style>\n<table border=\"1\" class=\"dataframe\">\n  <thead>\n    <tr style=\"text-align: right;\">\n      <th></th>\n      <th>deso</th>\n      <th>Charging_type</th>\n      <th>power_fast</th>\n      <th>sim</th>\n      <th>gt</th>\n    </tr>\n  </thead>\n  <tbody>\n    <tr>\n      <th>0</th>\n      <td>0114C1050</td>\n      <td>1 (0.2)</td>\n      <td>50</td>\n      <td>3.33</td>\n      <td>0.00</td>\n    </tr>\n    <tr>\n      <th>1</th>\n      <td>0114C1050</td>\n      <td>1 (0.2)</td>\n      <td>150</td>\n      <td>3.33</td>\n      <td>0.00</td>\n    </tr>\n    <tr>\n      <th>2</th>\n      <td>0114C1050</td>\n      <td>1 (0.3)</td>\n      <td>50</td>\n      <td>3.33</td>\n      <td>0.00</td>\n    </tr>\n    <tr>\n      <th>3</th>\n      <td>0114C1050</td>\n      <td>1 (0.3)</td>\n      <td>150</td>\n      <td>3.33</td>\n      <td>0.00</td>\n    </tr>\n    <tr>\n      <th>4</th>\n      <td>0114C1050</td>\n      <td>2 (0.2)</td>\n      <td>50</td>\n      <td>3.33</td>\n      <td>0.00</td>\n    </tr>\n  </tbody>\n</table>\n</div>"
     },
     "execution_count": 70,
     "metadata": {},
     "output_type": "execute_result"
    }
   ],
   "source": [
    "df_inf_comp = pd.read_csv(f'results/sensitivity/{scenario}_inf_comp.csv')\n",
    "df_inf_comp.head()"
   ],
   "metadata": {
    "collapsed": false,
    "pycharm": {
     "name": "#%%\n"
    }
   }
  },
  {
   "cell_type": "markdown",
   "source": [
    "1) Number of zones need more infrastructure, and\n",
    "2) Maximum number of additional charging points needed."
   ],
   "metadata": {
    "collapsed": false,
    "pycharm": {
     "name": "#%% md\n"
    }
   }
  },
  {
   "cell_type": "code",
   "execution_count": 72,
   "outputs": [
    {
     "data": {
      "text/plain": "                          zone_share  addi_num_max  addi_num_median\nCharging_type power_fast                                           \n1 (0.2)       50               94.71         78.33             6.67\n              150              94.32         71.67             6.67\n1 (0.3)       50               97.39        195.33            10.00\n              150              97.61        185.33            10.00\n2 (0.2)       50               98.59        265.33            13.33\n              150              98.44        226.00            13.33\n2 (0.3)       50               98.83        265.33            13.33\n              150              98.83        262.00            13.33\n3 (0.9)       50               99.49        452.67            23.33\n              150              99.45        449.33            23.33",
      "text/html": "<div>\n<style scoped>\n    .dataframe tbody tr th:only-of-type {\n        vertical-align: middle;\n    }\n\n    .dataframe tbody tr th {\n        vertical-align: top;\n    }\n\n    .dataframe thead th {\n        text-align: right;\n    }\n</style>\n<table border=\"1\" class=\"dataframe\">\n  <thead>\n    <tr style=\"text-align: right;\">\n      <th></th>\n      <th></th>\n      <th>zone_share</th>\n      <th>addi_num_max</th>\n      <th>addi_num_median</th>\n    </tr>\n    <tr>\n      <th>Charging_type</th>\n      <th>power_fast</th>\n      <th></th>\n      <th></th>\n      <th></th>\n    </tr>\n  </thead>\n  <tbody>\n    <tr>\n      <th rowspan=\"2\" valign=\"top\">1 (0.2)</th>\n      <th>50</th>\n      <td>94.71</td>\n      <td>78.33</td>\n      <td>6.67</td>\n    </tr>\n    <tr>\n      <th>150</th>\n      <td>94.32</td>\n      <td>71.67</td>\n      <td>6.67</td>\n    </tr>\n    <tr>\n      <th rowspan=\"2\" valign=\"top\">1 (0.3)</th>\n      <th>50</th>\n      <td>97.39</td>\n      <td>195.33</td>\n      <td>10.00</td>\n    </tr>\n    <tr>\n      <th>150</th>\n      <td>97.61</td>\n      <td>185.33</td>\n      <td>10.00</td>\n    </tr>\n    <tr>\n      <th rowspan=\"2\" valign=\"top\">2 (0.2)</th>\n      <th>50</th>\n      <td>98.59</td>\n      <td>265.33</td>\n      <td>13.33</td>\n    </tr>\n    <tr>\n      <th>150</th>\n      <td>98.44</td>\n      <td>226.00</td>\n      <td>13.33</td>\n    </tr>\n    <tr>\n      <th rowspan=\"2\" valign=\"top\">2 (0.3)</th>\n      <th>50</th>\n      <td>98.83</td>\n      <td>265.33</td>\n      <td>13.33</td>\n    </tr>\n    <tr>\n      <th>150</th>\n      <td>98.83</td>\n      <td>262.00</td>\n      <td>13.33</td>\n    </tr>\n    <tr>\n      <th rowspan=\"2\" valign=\"top\">3 (0.9)</th>\n      <th>50</th>\n      <td>99.49</td>\n      <td>452.67</td>\n      <td>23.33</td>\n    </tr>\n    <tr>\n      <th>150</th>\n      <td>99.45</td>\n      <td>449.33</td>\n      <td>23.33</td>\n    </tr>\n  </tbody>\n</table>\n</div>"
     },
     "execution_count": 72,
     "metadata": {},
     "output_type": "execute_result"
    }
   ],
   "source": [
    "import numpy as np\n",
    "def stats_inf_comp(data):\n",
    "    zone_share = len(data.loc[data['sim'] > data['gt'], :]) / len(data) * 100\n",
    "    addi_num_max = max(data['sim'] - data['gt'])\n",
    "    addi_num_median = np.median(data['sim'] - data['gt'])\n",
    "    return pd.Series({'zone_share': zone_share, 'addi_num_max': addi_num_max, 'addi_num_median': addi_num_median})\n",
    "df_inf_comp.groupby(['Charging_type', 'power_fast']).apply(stats_inf_comp).to_clipboard()\n",
    "df_inf_comp.groupby(['Charging_type', 'power_fast']).apply(stats_inf_comp)"
   ],
   "metadata": {
    "collapsed": false,
    "pycharm": {
     "name": "#%%\n"
    }
   }
  }
 ],
 "metadata": {
  "kernelspec": {
   "display_name": "Python 3",
   "language": "python",
   "name": "python3"
  },
  "language_info": {
   "codemirror_mode": {
    "name": "ipython",
    "version": 2
   },
   "file_extension": ".py",
   "mimetype": "text/x-python",
   "name": "python",
   "nbconvert_exporter": "python",
   "pygments_lexer": "ipython2",
   "version": "2.7.6"
  }
 },
 "nbformat": 4,
 "nbformat_minor": 0
}