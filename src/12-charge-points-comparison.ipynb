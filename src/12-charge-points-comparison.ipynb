{
 "cells": [
  {
   "cell_type": "markdown",
   "metadata": {
    "collapsed": true,
    "pycharm": {
     "name": "#%% md\n"
    }
   },
   "source": [
    "# Compare the simulation results with existing charging infrastructure in Sweden"
   ]
  },
  {
   "cell_type": "code",
   "execution_count": 23,
   "outputs": [
    {
     "name": "stdout",
     "output_type": "stream",
     "text": [
      "The autoreload extension is already loaded. To reload it, use:\n",
      "  %reload_ext autoreload\n",
      "D:\\synthetic-sweden\n"
     ]
    }
   ],
   "source": [
    "%load_ext autoreload\n",
    "%autoreload 2\n",
    "%cd D:\\synthetic-sweden\n",
    "%matplotlib inline"
   ],
   "metadata": {
    "collapsed": false,
    "pycharm": {
     "name": "#%%\n"
    }
   }
  },
  {
   "cell_type": "code",
   "execution_count": 24,
   "outputs": [],
   "source": [
    "import pandas as pd\n",
    "import geopandas as gpd\n",
    "import dataworkers as dw\n",
    "scenario = 'scenario_vg_car'"
   ],
   "metadata": {
    "collapsed": false,
    "pycharm": {
     "name": "#%%\n"
    }
   }
  },
  {
   "cell_type": "markdown",
   "source": [
    "## Load today's infrastructure"
   ],
   "metadata": {
    "collapsed": false,
    "pycharm": {
     "name": "#%% md\n"
    }
   }
  },
  {
   "cell_type": "code",
   "execution_count": 25,
   "outputs": [
    {
     "data": {
      "text/plain": "                    lm                                    id  \\\n0  2022-06-14T17-27-54  a6232963-fe8d-44c2-8a33-f1b1f97f2fc8   \n1  2022-06-14T17-27-54  ea1d02aa-fa06-400f-b141-6d5f024f9b34   \n2  2022-06-14T17-27-54  0bddfef0-0363-4e82-ba62-b428f0e6de88   \n3  2022-06-14T17-27-54  e6e04351-4aaf-4e1d-8d6a-d4994e33b418   \n4  2022-06-14T17-27-54  a1f46b96-6fa9-4cfc-b6bc-f5e0c44a9529   \n\n                                      nm                        adr     pnr  \\\n0           Pendelparkering E6 Kodemotet  Kodemotet pendelparkering   44260   \n1                        P-hus Olskroken      Lilla Olskroksgatan 1  416 65   \n2  STF Wendelsberg Hotell och Vandrarhem     Oskar Lundgrens Väg 3B   43535   \n3                     Signal & Andersson     Hulda Mellgrens gata 4  421 32   \n4                            Torggatan 3                Torggatan 3  431 35   \n\n                    rsp       rsb   rcd              cty ctryCd  ...    pw  \\\n0  Västra Götalands län   Kungälv  1482             Kode     SE  ...   3.7   \n1  Västra Götalands län  Göteborg  1480         Göteborg     SE  ...   0.0   \n2  Västra Götalands län   Härryda  1401        Mölnlycke     SE  ...  11.0   \n3  Västra Götalands län   Mölndal  1481  Västra Frölunda     SE  ...   0.0   \n4  Västra Götalands län   Mölndal  1481          Mölndal     SE  ...   3.7   \n\n     n                                 cd                                lm3  \\\n0  6.0  2014-07-07T12:20:48.5187849+02:00  2020-11-11T23:30:08.4066729+01:00   \n1  6.0  2019-09-03T10:37:05.0592506+02:00  2021-07-16T11:58:06.8046101+02:00   \n2  2.0  2019-08-02T18:27:24.7251837+02:00  2021-02-21T09:28:00.3275998+01:00   \n3  1.0  2019-10-18T10:00:32.4381494+02:00  2019-10-18T10:00:32.4381494+02:00   \n4  4.0  2021-05-03T18:31:13.1486696+02:00  2021-05-03T18:31:13.1486696+02:00   \n\n            oprtr         cnm         phrs  npp    prte  \\\n0  Kungälv energi         NaN  Dygnet runt    6  Gratis   \n1             NaN         NaN          NaN    6      Ja   \n2             NaN         NaN          NaN  NaN     NaN   \n3             NaN         NaN          NaN    1     NaN   \n4        EWAYS SE  Kundtjänst          NaN  NaN     NaN   \n\n                                ownr  \n0                    Kungälvs kommun  \n1                 Parkering Göteborg  \n2  STF Wendelsberg hotell och hostel  \n3                 Signal & Andersson  \n4                Hemsö Juristen 4 AB  \n\n[5 rows x 26 columns]",
      "text/html": "<div>\n<style scoped>\n    .dataframe tbody tr th:only-of-type {\n        vertical-align: middle;\n    }\n\n    .dataframe tbody tr th {\n        vertical-align: top;\n    }\n\n    .dataframe thead th {\n        text-align: right;\n    }\n</style>\n<table border=\"1\" class=\"dataframe\">\n  <thead>\n    <tr style=\"text-align: right;\">\n      <th></th>\n      <th>lm</th>\n      <th>id</th>\n      <th>nm</th>\n      <th>adr</th>\n      <th>pnr</th>\n      <th>rsp</th>\n      <th>rsb</th>\n      <th>rcd</th>\n      <th>cty</th>\n      <th>ctryCd</th>\n      <th>...</th>\n      <th>pw</th>\n      <th>n</th>\n      <th>cd</th>\n      <th>lm3</th>\n      <th>oprtr</th>\n      <th>cnm</th>\n      <th>phrs</th>\n      <th>npp</th>\n      <th>prte</th>\n      <th>ownr</th>\n    </tr>\n  </thead>\n  <tbody>\n    <tr>\n      <th>0</th>\n      <td>2022-06-14T17-27-54</td>\n      <td>a6232963-fe8d-44c2-8a33-f1b1f97f2fc8</td>\n      <td>Pendelparkering E6 Kodemotet</td>\n      <td>Kodemotet pendelparkering</td>\n      <td>44260</td>\n      <td>Västra Götalands län</td>\n      <td>Kungälv</td>\n      <td>1482</td>\n      <td>Kode</td>\n      <td>SE</td>\n      <td>...</td>\n      <td>3.7</td>\n      <td>6.0</td>\n      <td>2014-07-07T12:20:48.5187849+02:00</td>\n      <td>2020-11-11T23:30:08.4066729+01:00</td>\n      <td>Kungälv energi</td>\n      <td>NaN</td>\n      <td>Dygnet runt</td>\n      <td>6</td>\n      <td>Gratis</td>\n      <td>Kungälvs kommun</td>\n    </tr>\n    <tr>\n      <th>1</th>\n      <td>2022-06-14T17-27-54</td>\n      <td>ea1d02aa-fa06-400f-b141-6d5f024f9b34</td>\n      <td>P-hus Olskroken</td>\n      <td>Lilla Olskroksgatan 1</td>\n      <td>416 65</td>\n      <td>Västra Götalands län</td>\n      <td>Göteborg</td>\n      <td>1480</td>\n      <td>Göteborg</td>\n      <td>SE</td>\n      <td>...</td>\n      <td>0.0</td>\n      <td>6.0</td>\n      <td>2019-09-03T10:37:05.0592506+02:00</td>\n      <td>2021-07-16T11:58:06.8046101+02:00</td>\n      <td>NaN</td>\n      <td>NaN</td>\n      <td>NaN</td>\n      <td>6</td>\n      <td>Ja</td>\n      <td>Parkering Göteborg</td>\n    </tr>\n    <tr>\n      <th>2</th>\n      <td>2022-06-14T17-27-54</td>\n      <td>0bddfef0-0363-4e82-ba62-b428f0e6de88</td>\n      <td>STF Wendelsberg Hotell och Vandrarhem</td>\n      <td>Oskar Lundgrens Väg 3B</td>\n      <td>43535</td>\n      <td>Västra Götalands län</td>\n      <td>Härryda</td>\n      <td>1401</td>\n      <td>Mölnlycke</td>\n      <td>SE</td>\n      <td>...</td>\n      <td>11.0</td>\n      <td>2.0</td>\n      <td>2019-08-02T18:27:24.7251837+02:00</td>\n      <td>2021-02-21T09:28:00.3275998+01:00</td>\n      <td>NaN</td>\n      <td>NaN</td>\n      <td>NaN</td>\n      <td>NaN</td>\n      <td>NaN</td>\n      <td>STF Wendelsberg hotell och hostel</td>\n    </tr>\n    <tr>\n      <th>3</th>\n      <td>2022-06-14T17-27-54</td>\n      <td>e6e04351-4aaf-4e1d-8d6a-d4994e33b418</td>\n      <td>Signal &amp; Andersson</td>\n      <td>Hulda Mellgrens gata 4</td>\n      <td>421 32</td>\n      <td>Västra Götalands län</td>\n      <td>Mölndal</td>\n      <td>1481</td>\n      <td>Västra Frölunda</td>\n      <td>SE</td>\n      <td>...</td>\n      <td>0.0</td>\n      <td>1.0</td>\n      <td>2019-10-18T10:00:32.4381494+02:00</td>\n      <td>2019-10-18T10:00:32.4381494+02:00</td>\n      <td>NaN</td>\n      <td>NaN</td>\n      <td>NaN</td>\n      <td>1</td>\n      <td>NaN</td>\n      <td>Signal &amp; Andersson</td>\n    </tr>\n    <tr>\n      <th>4</th>\n      <td>2022-06-14T17-27-54</td>\n      <td>a1f46b96-6fa9-4cfc-b6bc-f5e0c44a9529</td>\n      <td>Torggatan 3</td>\n      <td>Torggatan 3</td>\n      <td>431 35</td>\n      <td>Västra Götalands län</td>\n      <td>Mölndal</td>\n      <td>1481</td>\n      <td>Mölndal</td>\n      <td>SE</td>\n      <td>...</td>\n      <td>3.7</td>\n      <td>4.0</td>\n      <td>2021-05-03T18:31:13.1486696+02:00</td>\n      <td>2021-05-03T18:31:13.1486696+02:00</td>\n      <td>EWAYS SE</td>\n      <td>Kundtjänst</td>\n      <td>NaN</td>\n      <td>NaN</td>\n      <td>NaN</td>\n      <td>Hemsö Juristen 4 AB</td>\n    </tr>\n  </tbody>\n</table>\n<p>5 rows × 26 columns</p>\n</div>"
     },
     "execution_count": 25,
     "metadata": {},
     "output_type": "execute_result"
    }
   ],
   "source": [
    "df = pd.read_excel('dbs/ev/charging_sites.xlsx')\n",
    "df.head()"
   ],
   "metadata": {
    "collapsed": false,
    "pycharm": {
     "name": "#%%\n"
    }
   }
  },
  {
   "cell_type": "code",
   "execution_count": 26,
   "outputs": [],
   "source": [
    "df = df.loc[:, ['id', 'lat', 'lng', 'pw', 'n']]\n",
    "df.loc[:, 'fast'] = df.apply(lambda row: row['n'] if row['pw'] > 22 else 0, axis=1)"
   ],
   "metadata": {
    "collapsed": false,
    "pycharm": {
     "name": "#%%\n"
    }
   }
  },
  {
   "cell_type": "code",
   "execution_count": 27,
   "outputs": [
    {
     "data": {
      "text/plain": "                                     id    pw    n  fast  \\\n0  a6232963-fe8d-44c2-8a33-f1b1f97f2fc8   3.7  6.0   0.0   \n1  ea1d02aa-fa06-400f-b141-6d5f024f9b34   0.0  6.0   0.0   \n2  0bddfef0-0363-4e82-ba62-b428f0e6de88  11.0  2.0   0.0   \n3  e6e04351-4aaf-4e1d-8d6a-d4994e33b418   0.0  1.0   0.0   \n4  a1f46b96-6fa9-4cfc-b6bc-f5e0c44a9529   3.7  4.0   0.0   \n\n                         geometry  \n0  POINT (313854.917 6426852.422)  \n1  POINT (321076.678 6400932.768)  \n2  POINT (328382.852 6394960.833)  \n3  POINT (318565.876 6393579.914)  \n4  POINT (322206.239 6394693.635)  ",
      "text/html": "<div>\n<style scoped>\n    .dataframe tbody tr th:only-of-type {\n        vertical-align: middle;\n    }\n\n    .dataframe tbody tr th {\n        vertical-align: top;\n    }\n\n    .dataframe thead th {\n        text-align: right;\n    }\n</style>\n<table border=\"1\" class=\"dataframe\">\n  <thead>\n    <tr style=\"text-align: right;\">\n      <th></th>\n      <th>id</th>\n      <th>pw</th>\n      <th>n</th>\n      <th>fast</th>\n      <th>geometry</th>\n    </tr>\n  </thead>\n  <tbody>\n    <tr>\n      <th>0</th>\n      <td>a6232963-fe8d-44c2-8a33-f1b1f97f2fc8</td>\n      <td>3.7</td>\n      <td>6.0</td>\n      <td>0.0</td>\n      <td>POINT (313854.917 6426852.422)</td>\n    </tr>\n    <tr>\n      <th>1</th>\n      <td>ea1d02aa-fa06-400f-b141-6d5f024f9b34</td>\n      <td>0.0</td>\n      <td>6.0</td>\n      <td>0.0</td>\n      <td>POINT (321076.678 6400932.768)</td>\n    </tr>\n    <tr>\n      <th>2</th>\n      <td>0bddfef0-0363-4e82-ba62-b428f0e6de88</td>\n      <td>11.0</td>\n      <td>2.0</td>\n      <td>0.0</td>\n      <td>POINT (328382.852 6394960.833)</td>\n    </tr>\n    <tr>\n      <th>3</th>\n      <td>e6e04351-4aaf-4e1d-8d6a-d4994e33b418</td>\n      <td>0.0</td>\n      <td>1.0</td>\n      <td>0.0</td>\n      <td>POINT (318565.876 6393579.914)</td>\n    </tr>\n    <tr>\n      <th>4</th>\n      <td>a1f46b96-6fa9-4cfc-b6bc-f5e0c44a9529</td>\n      <td>3.7</td>\n      <td>4.0</td>\n      <td>0.0</td>\n      <td>POINT (322206.239 6394693.635)</td>\n    </tr>\n  </tbody>\n</table>\n</div>"
     },
     "execution_count": 27,
     "metadata": {},
     "output_type": "execute_result"
    }
   ],
   "source": [
    "gdf = dw.df2gdf_point(df, 'lng', 'lat', crs=4326, drop=True).to_crs(3006)\n",
    "gdf.head()"
   ],
   "metadata": {
    "collapsed": false,
    "pycharm": {
     "name": "#%%\n"
    }
   }
  },
  {
   "cell_type": "markdown",
   "source": [
    "## Load simulation results"
   ],
   "metadata": {
    "collapsed": false,
    "pycharm": {
     "name": "#%% md\n"
    }
   }
  },
  {
   "cell_type": "code",
   "execution_count": 36,
   "outputs": [
    {
     "data": {
      "text/plain": "        deso Charging_type  number\n0  0114C1050       1 (0.2)     1.0\n1  0114C1050       2 (0.2)     1.0\n2  0114C1050       3 (0.9)     1.0\n3  0127C1130       1 (0.2)     1.0\n4  0127C1130       2 (0.2)     1.0",
      "text/html": "<div>\n<style scoped>\n    .dataframe tbody tr th:only-of-type {\n        vertical-align: middle;\n    }\n\n    .dataframe tbody tr th {\n        vertical-align: top;\n    }\n\n    .dataframe thead th {\n        text-align: right;\n    }\n</style>\n<table border=\"1\" class=\"dataframe\">\n  <thead>\n    <tr style=\"text-align: right;\">\n      <th></th>\n      <th>deso</th>\n      <th>Charging_type</th>\n      <th>number</th>\n    </tr>\n  </thead>\n  <tbody>\n    <tr>\n      <th>0</th>\n      <td>0114C1050</td>\n      <td>1 (0.2)</td>\n      <td>1.0</td>\n    </tr>\n    <tr>\n      <th>1</th>\n      <td>0114C1050</td>\n      <td>2 (0.2)</td>\n      <td>1.0</td>\n    </tr>\n    <tr>\n      <th>2</th>\n      <td>0114C1050</td>\n      <td>3 (0.9)</td>\n      <td>1.0</td>\n    </tr>\n    <tr>\n      <th>3</th>\n      <td>0127C1130</td>\n      <td>1 (0.2)</td>\n      <td>1.0</td>\n    </tr>\n    <tr>\n      <th>4</th>\n      <td>0127C1130</td>\n      <td>2 (0.2)</td>\n      <td>1.0</td>\n    </tr>\n  </tbody>\n</table>\n</div>"
     },
     "execution_count": 36,
     "metadata": {},
     "output_type": "execute_result"
    }
   ],
   "source": [
    "df_sim = pd.read_csv(f\"results/{scenario}_stats_charger_5days.csv\")\n",
    "df_sim = df_sim.loc[df_sim['power_fast'] == 50, :]\n",
    "df_sim = df_sim.groupby(['deso', 'Charging_type'])['number'].sum().reset_index()\n",
    "df_sim.head()"
   ],
   "metadata": {
    "collapsed": false,
    "pycharm": {
     "name": "#%%\n"
    }
   }
  },
  {
   "cell_type": "code",
   "execution_count": 35,
   "outputs": [],
   "source": [
    "zones = gpd.read_file('dbs/DeSO/DeSO_2018_v2.shp')\n",
    "zones = zones.loc[zones['deso'].isin(df_sim['deso'].unique()), :]"
   ],
   "metadata": {
    "collapsed": false,
    "pycharm": {
     "name": "#%%\n"
    }
   }
  },
  {
   "cell_type": "markdown",
   "source": [
    "## Calculate existing number of charging points"
   ],
   "metadata": {
    "collapsed": false,
    "pycharm": {
     "name": "#%% md\n"
    }
   }
  },
  {
   "cell_type": "code",
   "execution_count": 30,
   "outputs": [
    {
     "data": {
      "text/plain": "                                        id    pw    n  fast  \\\n0     a6232963-fe8d-44c2-8a33-f1b1f97f2fc8   3.7  6.0   0.0   \n1     ea1d02aa-fa06-400f-b141-6d5f024f9b34   0.0  6.0   0.0   \n2     0bddfef0-0363-4e82-ba62-b428f0e6de88  11.0  2.0   0.0   \n1036  c6b255b0-3b17-46e7-8936-25338175cc93  22.0  6.0   0.0   \n1043  14e4f771-ac65-4515-b896-69091925ccf9  22.0  8.0   0.0   \n\n                            geometry  index_right       deso  befolkning  \n0     POINT (313854.917 6426852.422)         4194  1482B2030        1878  \n1     POINT (321076.678 6400932.768)         4023  1480C2810        1641  \n2     POINT (328382.852 6394960.833)         3576  1401C1090        1714  \n1036  POINT (327950.927 6394331.454)         3576  1401C1090        1714  \n1043  POINT (327782.782 6394274.965)         3576  1401C1090        1714  ",
      "text/html": "<div>\n<style scoped>\n    .dataframe tbody tr th:only-of-type {\n        vertical-align: middle;\n    }\n\n    .dataframe tbody tr th {\n        vertical-align: top;\n    }\n\n    .dataframe thead th {\n        text-align: right;\n    }\n</style>\n<table border=\"1\" class=\"dataframe\">\n  <thead>\n    <tr style=\"text-align: right;\">\n      <th></th>\n      <th>id</th>\n      <th>pw</th>\n      <th>n</th>\n      <th>fast</th>\n      <th>geometry</th>\n      <th>index_right</th>\n      <th>deso</th>\n      <th>befolkning</th>\n    </tr>\n  </thead>\n  <tbody>\n    <tr>\n      <th>0</th>\n      <td>a6232963-fe8d-44c2-8a33-f1b1f97f2fc8</td>\n      <td>3.7</td>\n      <td>6.0</td>\n      <td>0.0</td>\n      <td>POINT (313854.917 6426852.422)</td>\n      <td>4194</td>\n      <td>1482B2030</td>\n      <td>1878</td>\n    </tr>\n    <tr>\n      <th>1</th>\n      <td>ea1d02aa-fa06-400f-b141-6d5f024f9b34</td>\n      <td>0.0</td>\n      <td>6.0</td>\n      <td>0.0</td>\n      <td>POINT (321076.678 6400932.768)</td>\n      <td>4023</td>\n      <td>1480C2810</td>\n      <td>1641</td>\n    </tr>\n    <tr>\n      <th>2</th>\n      <td>0bddfef0-0363-4e82-ba62-b428f0e6de88</td>\n      <td>11.0</td>\n      <td>2.0</td>\n      <td>0.0</td>\n      <td>POINT (328382.852 6394960.833)</td>\n      <td>3576</td>\n      <td>1401C1090</td>\n      <td>1714</td>\n    </tr>\n    <tr>\n      <th>1036</th>\n      <td>c6b255b0-3b17-46e7-8936-25338175cc93</td>\n      <td>22.0</td>\n      <td>6.0</td>\n      <td>0.0</td>\n      <td>POINT (327950.927 6394331.454)</td>\n      <td>3576</td>\n      <td>1401C1090</td>\n      <td>1714</td>\n    </tr>\n    <tr>\n      <th>1043</th>\n      <td>14e4f771-ac65-4515-b896-69091925ccf9</td>\n      <td>22.0</td>\n      <td>8.0</td>\n      <td>0.0</td>\n      <td>POINT (327782.782 6394274.965)</td>\n      <td>3576</td>\n      <td>1401C1090</td>\n      <td>1714</td>\n    </tr>\n  </tbody>\n</table>\n</div>"
     },
     "execution_count": 30,
     "metadata": {},
     "output_type": "execute_result"
    }
   ],
   "source": [
    "gdf = gpd.sjoin(gdf, zones.loc[:, ['deso', 'befolkning', 'geometry']])\n",
    "gdf.head()"
   ],
   "metadata": {
    "collapsed": false,
    "pycharm": {
     "name": "#%%\n"
    }
   }
  },
  {
   "cell_type": "code",
   "execution_count": 31,
   "outputs": [
    {
     "data": {
      "text/plain": "        deso     n\n0  1401A0020  97.0\n1  1401B2010  36.0\n2  1401C1010   2.0\n3  1401C1040   5.0\n4  1401C1060   6.0",
      "text/html": "<div>\n<style scoped>\n    .dataframe tbody tr th:only-of-type {\n        vertical-align: middle;\n    }\n\n    .dataframe tbody tr th {\n        vertical-align: top;\n    }\n\n    .dataframe thead th {\n        text-align: right;\n    }\n</style>\n<table border=\"1\" class=\"dataframe\">\n  <thead>\n    <tr style=\"text-align: right;\">\n      <th></th>\n      <th>deso</th>\n      <th>n</th>\n    </tr>\n  </thead>\n  <tbody>\n    <tr>\n      <th>0</th>\n      <td>1401A0020</td>\n      <td>97.0</td>\n    </tr>\n    <tr>\n      <th>1</th>\n      <td>1401B2010</td>\n      <td>36.0</td>\n    </tr>\n    <tr>\n      <th>2</th>\n      <td>1401C1010</td>\n      <td>2.0</td>\n    </tr>\n    <tr>\n      <th>3</th>\n      <td>1401C1040</td>\n      <td>5.0</td>\n    </tr>\n    <tr>\n      <th>4</th>\n      <td>1401C1060</td>\n      <td>6.0</td>\n    </tr>\n  </tbody>\n</table>\n</div>"
     },
     "execution_count": 31,
     "metadata": {},
     "output_type": "execute_result"
    }
   ],
   "source": [
    "df_inf = gdf.groupby('deso')['n'].sum().reset_index()\n",
    "df_inf.head()"
   ],
   "metadata": {
    "collapsed": false,
    "pycharm": {
     "name": "#%%\n"
    }
   }
  },
  {
   "cell_type": "code",
   "execution_count": 32,
   "outputs": [
    {
     "data": {
      "text/plain": "        deso Charging_type  sim   gt\n0  0114C1050       1 (0.2)  1.0  0.0\n1  0114C1050       2 (0.2)  1.0  0.0\n2  0114C1050       3 (0.9)  1.0  0.0\n3  0127C1130       1 (0.2)  1.0  0.0\n4  0127C1130       2 (0.2)  1.0  0.0",
      "text/html": "<div>\n<style scoped>\n    .dataframe tbody tr th:only-of-type {\n        vertical-align: middle;\n    }\n\n    .dataframe tbody tr th {\n        vertical-align: top;\n    }\n\n    .dataframe thead th {\n        text-align: right;\n    }\n</style>\n<table border=\"1\" class=\"dataframe\">\n  <thead>\n    <tr style=\"text-align: right;\">\n      <th></th>\n      <th>deso</th>\n      <th>Charging_type</th>\n      <th>sim</th>\n      <th>gt</th>\n    </tr>\n  </thead>\n  <tbody>\n    <tr>\n      <th>0</th>\n      <td>0114C1050</td>\n      <td>1 (0.2)</td>\n      <td>1.0</td>\n      <td>0.0</td>\n    </tr>\n    <tr>\n      <th>1</th>\n      <td>0114C1050</td>\n      <td>2 (0.2)</td>\n      <td>1.0</td>\n      <td>0.0</td>\n    </tr>\n    <tr>\n      <th>2</th>\n      <td>0114C1050</td>\n      <td>3 (0.9)</td>\n      <td>1.0</td>\n      <td>0.0</td>\n    </tr>\n    <tr>\n      <th>3</th>\n      <td>0127C1130</td>\n      <td>1 (0.2)</td>\n      <td>1.0</td>\n      <td>0.0</td>\n    </tr>\n    <tr>\n      <th>4</th>\n      <td>0127C1130</td>\n      <td>2 (0.2)</td>\n      <td>1.0</td>\n      <td>0.0</td>\n    </tr>\n  </tbody>\n</table>\n</div>"
     },
     "execution_count": 32,
     "metadata": {},
     "output_type": "execute_result"
    }
   ],
   "source": [
    "df = pd.merge(df_sim, df_inf, on='deso', how='outer')\n",
    "df = df.fillna(0)\n",
    "df.columns = ['deso', 'Charging_type', 'sim', 'gt']\n",
    "df.head()"
   ],
   "metadata": {
    "collapsed": false,
    "pycharm": {
     "name": "#%%\n"
    }
   }
  },
  {
   "cell_type": "code",
   "execution_count": 33,
   "outputs": [],
   "source": [
    "# Sale up to total VG residents\n",
    "df.sim = df.sim * (1/0.35) # The results are based on 35% VG car users.\n",
    "df.to_csv(f'results/{scenario}_inf_comp.csv', index=False)"
   ],
   "metadata": {
    "collapsed": false,
    "pycharm": {
     "name": "#%%\n"
    }
   }
  }
 ],
 "metadata": {
  "kernelspec": {
   "display_name": "Python 3",
   "language": "python",
   "name": "python3"
  },
  "language_info": {
   "codemirror_mode": {
    "name": "ipython",
    "version": 2
   },
   "file_extension": ".py",
   "mimetype": "text/x-python",
   "name": "python",
   "nbconvert_exporter": "python",
   "pygments_lexer": "ipython2",
   "version": "2.7.6"
  }
 },
 "nbformat": 4,
 "nbformat_minor": 0
}